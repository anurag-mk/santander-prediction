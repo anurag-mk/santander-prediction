{
 "cells": [
  {
   "cell_type": "markdown",
   "metadata": {
    "id": "t8fwQsKV3jA_"
   },
   "source": [
    "References:\n",
    "\n",
    "\n",
    "*   https://www.kaggle.com/code/nawidsayed/lightgbm-and-cnn-3rd-place-solution/notebook\n",
    "*   https://www.kaggle.com/code/mks2192/list-of-fake-samples-and-public-private-lb-split/notebook\n",
    "\n",
    "\n",
    "\n"
   ]
  },
  {
   "cell_type": "markdown",
   "metadata": {
    "id": "FMSjGosA99Rv"
   },
   "source": [
    "### Imports"
   ]
  },
  {
   "cell_type": "code",
   "execution_count": 3,
   "metadata": {
    "id": "1qL6p2UF99Rv"
   },
   "outputs": [],
   "source": [
    "import pandas as pd\n",
    "import numpy as np\n",
    "import seaborn as sns\n",
    "from sklearn.ensemble import RandomForestClassifier\n",
    "from sklearn.feature_selection import SelectFromModel\n",
    "from sklearn.preprocessing import StandardScaler\n",
    "from imblearn.pipeline import Pipeline\n",
    "import matplotlib.pyplot as plt\n",
    "from sklearn.metrics import accuracy_score, confusion_matrix\n",
    "from sklearn.metrics import precision_score, recall_score, f1_score\n",
    "from sklearn.metrics import classification_report\n",
    "from imblearn.pipeline import Pipeline\n",
    "from lightgbm import LGBMClassifier\n",
    "from sklearn.metrics import plot_confusion_matrix\n",
    "from sklearn.tree import DecisionTreeClassifier\n",
    "from sklearn.model_selection import train_test_split\n",
    "from sklearn.model_selection import GridSearchCV, cross_val_score, KFold\n",
    "from sklearn.model_selection import train_test_split, GridSearchCV, cross_val_score, KFold\n",
    "import scipy.ndimage\n",
    "from sklearn import linear_model\n",
    "import xgboost as xgb\n",
    "from xgboost.sklearn import XGBClassifier\n",
    "import sklearn.metrics as metrics\n",
    "import matplotlib.pyplot as plt\n",
    "import pickle as pkl\n",
    "from sklearn.ensemble import StackingClassifier\n",
    "from imblearn.under_sampling import RandomUnderSampler\n",
    "import warnings\n",
    "warnings.filterwarnings('ignore')"
   ]
  },
  {
   "cell_type": "code",
   "execution_count": 4,
   "metadata": {
    "id": "WPcd_O_1X-DX"
   },
   "outputs": [],
   "source": [
    "RAND_STATE = 47\n",
    "np.random.seed(RAND_STATE)"
   ]
  },
  {
   "cell_type": "code",
   "execution_count": 5,
   "metadata": {
    "id": "Wnp-xLsba8a5"
   },
   "outputs": [],
   "source": [
    "folder = '../'"
   ]
  },
  {
   "cell_type": "code",
   "execution_count": null,
   "metadata": {
    "colab": {
     "base_uri": "https://localhost:8080/"
    },
    "id": "QFmi0XJbxtOj",
    "outputId": "288c2835-018d-4b78-d77b-71dde1defc27"
   },
   "outputs": [
    {
     "name": "stdout",
     "output_type": "stream",
     "text": [
      "Mounted at /content/drive\n"
     ]
    }
   ],
   "source": [
    "from google.colab import drive\n",
    "drive.mount('/content/drive')"
   ]
  },
  {
   "cell_type": "markdown",
   "metadata": {
    "id": "p70RGcubYzWB"
   },
   "source": [
    "##### Get Updated clean and split files"
   ]
  },
  {
   "cell_type": "code",
   "execution_count": 10,
   "metadata": {
    "id": "_Z6V7pKh-2gh"
   },
   "outputs": [],
   "source": [
    "def get_train_test(tr = 'X_train.csv', te = 'X_test_all.csv'):\n",
    "    # Returns a sample of original dataset\n",
    "    # of 100k records of class 0 and all records of class 1\n",
    "    # along with val and test datasets\n",
    "    df = pd.read_csv(folder + tr)\n",
    "    # test_df = pd.read_csv(folder + 'X_test.csv')\n",
    "    test_all_df = pd.read_csv(folder + te)\n",
    "    # Splitting for train and val\n",
    "    X_train, X_val, y_train, y_val = train_test_split(df.iloc[:, 3:],\n",
    "                                                    df.target,\n",
    "                                                    test_size=0.2, \n",
    "                                                    random_state=RAND_STATE,\n",
    "                                                    stratify = df['target'])\n",
    "    X_test_all = test_all_df.iloc[:, 3:]\n",
    "    \n",
    "    class_dict = {0 : 100000,\n",
    "                  1 :  y_train.value_counts()[1]}\n",
    "    \n",
    "    rus = RandomUnderSampler(sampling_strategy = class_dict,\n",
    "                             random_state = RAND_STATE) \n",
    "    X_res, y_res = rus.fit_resample(X_train, y_train)\n",
    "    X_res.to_csv(folder+'charan/X_res.csv')\n",
    "    y_res.to_csv(folder+'charan/y_res.csv')\n",
    "    \n",
    "    del df, test_all_df\n",
    "#   return X_train, X_val, y_train, y_val, X_test_all\n",
    "    return X_res, X_val, y_res, y_val, X_test_all"
   ]
  },
  {
   "cell_type": "markdown",
   "metadata": {
    "id": "drC2k-Hgq6c8"
   },
   "source": [
    "#### Initializing models for stacking"
   ]
  },
  {
   "cell_type": "code",
   "execution_count": 8,
   "metadata": {
    "id": "sedKvixaq6c9"
   },
   "outputs": [],
   "source": [
    "def get_stacked_model():\n",
    "    # Logistic Regression\n",
    "    lr_stack = linear_model.LogisticRegression(C=0.1, \n",
    "                                            class_weight='balanced', \n",
    "                                            penalty='l1', \n",
    "                                            solver= 'saga', \n",
    "                                            random_state=RAND_STATE,\n",
    "                                            verbose = 1)\n",
    "    \n",
    "\n",
    "    # Random Forest\n",
    "#     rf_stack = RandomForestClassifier(max_features='auto', \n",
    "#                                     max_depth=15, \n",
    "#                                     min_samples_split=15,\n",
    "#                                     class_weight='balanced', \n",
    "#                                     bootstrap=True ,\n",
    "#                                     random_state=RAND_STATE,\n",
    "#                                     verbose = 1)\n",
    "    # XGBoost Classifier\n",
    "    xgb_stack = XGBClassifier(max_depth=5, \n",
    "                        n_estimators=200,\n",
    "                        random_state=RAND_STATE,\n",
    "                        verbosity = 1,\n",
    "                        scale_pos_weight = 8,\n",
    "                        learning_rate = .05)\n",
    "    \n",
    "    lgbm_stack = LGBMClassifier(bagging_fraction=0.331, bagging_freq=5,\n",
    "                                boost='gbdt', boost_from_average='false',\n",
    "                                class_weight='balanced', feature_fraction=0.045,\n",
    "                                learning_rate=0.0083, metric='auc',\n",
    "                                min_data_in_leaf=80,\n",
    "                                min_sum_hessian_in_leaf=10.0, num_leaves=13,\n",
    "                                num_threads=8, objective='binary',\n",
    "                                random_state=RAND_STATE,\n",
    "                                tree_learner='serial', verbosity=1)\n",
    "\n",
    "    # Initializing the base layer of models\n",
    "    base_estimators = [('xgb', lgbm_stack),\n",
    "                       ('lr', lr_stack)]\n",
    "\n",
    "    # Initiating the stacking classifier using xgboost as the final estimator\n",
    "    model = StackingClassifier(estimators=base_estimators,\n",
    "                               final_estimator=xgb_stack,\n",
    "                               passthrough = True,\n",
    "                               verbose = 1,\n",
    "                               n_jobs = 3)\n",
    "    return model"
   ]
  },
  {
   "cell_type": "markdown",
   "metadata": {
    "id": "cybD773m0huZ"
   },
   "source": [
    "##### Fitting the Model"
   ]
  },
  {
   "cell_type": "code",
   "execution_count": null,
   "metadata": {
    "id": "BHcY-7EkrxV6"
   },
   "outputs": [],
   "source": [
    "X_train, X_val, y_train, y_val, X_test_all = get_train_test()\n",
    "# X_train = pd.read_csv(folder + 'charan/X_res.csv')\n",
    "# y_train = pd.read_csv(folder + 'charan/y_res.csv')\n",
    "# X_val = pd.read_csv(folder+'charan/X_val.csv', index_col=0)\n",
    "# y_val = pd.read_csv(folder+'charan/y_val.csv', index_col=0)"
   ]
  },
  {
   "cell_type": "code",
   "execution_count": 9,
   "metadata": {
    "id": "o1MX_NiKr7bK"
   },
   "outputs": [],
   "source": [
    "model = get_stacked_model()"
   ]
  },
  {
   "cell_type": "code",
   "execution_count": 36,
   "metadata": {
    "colab": {
     "base_uri": "https://localhost:8080/"
    },
    "id": "oj6XaXqzi2ii",
    "outputId": "4deb44c3-c770-4ce9-c9c4-99bfe98611f6",
    "scrolled": true
   },
   "outputs": [
    {
     "name": "stderr",
     "output_type": "stream",
     "text": [
      "[Parallel(n_jobs=1)]: Using backend SequentialBackend with 1 concurrent workers.\n",
      "/Users/charan/miniforge3/lib/python3.9/site-packages/sklearn/linear_model/_sag.py:352: ConvergenceWarning: The max_iter was reached which means the coef_ did not converge\n",
      "  warnings.warn(\n",
      "[Parallel(n_jobs=1)]: Done   1 out of   1 | elapsed:  1.2min finished\n",
      "[Parallel(n_jobs=3)]: Using backend ThreadingBackend with 3 concurrent workers.\n",
      "[Parallel(n_jobs=3)]: Using backend ThreadingBackend with 3 concurrent workers.\n",
      "[Parallel(n_jobs=1)]: Using backend SequentialBackend with 1 concurrent workers.\n"
     ]
    },
    {
     "name": "stdout",
     "output_type": "stream",
     "text": [
      "Epoch 1, change: 1.00000000\n",
      "Epoch 2, change: 0.38976692\n",
      "Epoch 3, change: 0.24217417\n",
      "Epoch 4, change: 0.17689428\n",
      "Epoch 5, change: 0.14537652\n",
      "Epoch 6, change: 0.11813794\n",
      "Epoch 7, change: 0.10071531\n",
      "Epoch 8, change: 0.08944758\n",
      "Epoch 9, change: 0.07820564\n",
      "Epoch 10, change: 0.07022125\n",
      "Epoch 11, change: 0.06239945\n",
      "Epoch 12, change: 0.05643258\n",
      "Epoch 13, change: 0.05154705\n",
      "Epoch 14, change: 0.04713413\n",
      "Epoch 15, change: 0.04362312\n",
      "Epoch 16, change: 0.04062441\n",
      "Epoch 17, change: 0.03776488\n",
      "Epoch 18, change: 0.03506185\n",
      "Epoch 19, change: 0.03284459\n",
      "Epoch 20, change: 0.03078487\n",
      "Epoch 21, change: 0.02916804\n",
      "Epoch 22, change: 0.02753647\n",
      "Epoch 23, change: 0.02624520\n",
      "Epoch 24, change: 0.02495647\n",
      "Epoch 25, change: 0.02374986\n",
      "Epoch 26, change: 0.02274656\n",
      "Epoch 27, change: 0.02161439\n",
      "Epoch 28, change: 0.02076872\n",
      "Epoch 29, change: 0.01983106\n",
      "Epoch 30, change: 0.01910933\n",
      "Epoch 31, change: 0.01830364\n",
      "Epoch 32, change: 0.01763178\n",
      "Epoch 33, change: 0.01694360\n",
      "Epoch 34, change: 0.01632976\n",
      "Epoch 35, change: 0.01576351\n",
      "Epoch 36, change: 0.01515244\n",
      "Epoch 37, change: 0.01465499\n",
      "Epoch 38, change: 0.01416350\n",
      "Epoch 39, change: 0.01367028\n",
      "Epoch 40, change: 0.01326919\n",
      "Epoch 41, change: 0.01284669\n",
      "Epoch 42, change: 0.01239484\n",
      "Epoch 43, change: 0.01203178\n",
      "Epoch 44, change: 0.01168650\n",
      "Epoch 45, change: 0.01129608\n",
      "Epoch 46, change: 0.01100676\n",
      "Epoch 47, change: 0.01067785\n",
      "Epoch 48, change: 0.01039398\n",
      "Epoch 49, change: 0.01008745\n",
      "Epoch 50, change: 0.00982473\n",
      "Epoch 51, change: 0.00953891\n",
      "Epoch 52, change: 0.00928938\n",
      "Epoch 53, change: 0.00904015\n",
      "Epoch 54, change: 0.00880047\n",
      "Epoch 55, change: 0.00857973\n",
      "Epoch 56, change: 0.00839060\n",
      "Epoch 57, change: 0.00816622\n",
      "Epoch 58, change: 0.00797060\n",
      "Epoch 59, change: 0.00777156\n",
      "Epoch 60, change: 0.00759628\n",
      "Epoch 61, change: 0.00741285\n",
      "Epoch 62, change: 0.00723673\n",
      "Epoch 63, change: 0.00705883\n",
      "Epoch 64, change: 0.00691677\n",
      "Epoch 65, change: 0.00674786\n",
      "Epoch 66, change: 0.00660826\n",
      "Epoch 67, change: 0.00646920\n",
      "Epoch 68, change: 0.00634644\n",
      "Epoch 69, change: 0.00620179\n",
      "Epoch 70, change: 0.00608459\n",
      "Epoch 71, change: 0.00596195\n",
      "Epoch 72, change: 0.00584398\n",
      "Epoch 73, change: 0.00573044\n",
      "Epoch 74, change: 0.00562627\n",
      "Epoch 75, change: 0.00551093\n",
      "Epoch 76, change: 0.00540424\n",
      "Epoch 77, change: 0.00530989\n",
      "Epoch 78, change: 0.00520643\n",
      "Epoch 79, change: 0.00511077\n",
      "Epoch 80, change: 0.00501434\n",
      "Epoch 81, change: 0.00491987\n",
      "Epoch 82, change: 0.00484252\n",
      "Epoch 83, change: 0.00474939\n",
      "Epoch 84, change: 0.00466907\n",
      "Epoch 85, change: 0.00459513\n",
      "Epoch 86, change: 0.00449672\n",
      "Epoch 87, change: 0.00442131\n",
      "Epoch 88, change: 0.00434812\n",
      "Epoch 89, change: 0.00427229\n",
      "Epoch 90, change: 0.00420413\n",
      "Epoch 91, change: 0.00413275\n",
      "Epoch 92, change: 0.00406098\n",
      "Epoch 93, change: 0.00400163\n",
      "Epoch 94, change: 0.00393261\n",
      "Epoch 95, change: 0.00387659\n",
      "Epoch 96, change: 0.00380723\n",
      "Epoch 97, change: 0.00374266\n",
      "Epoch 98, change: 0.00368088\n",
      "Epoch 99, change: 0.00362140\n",
      "Epoch 100, change: 0.00356739\n",
      "[LightGBM] [Warning] boosting is set with boost=gbdt, boosting_type=gbdt will be ignored. Current value: boosting=gbdt\n",
      "[LightGBM] [Warning] bagging_freq is set=5, subsample_freq=0 will be ignored. Current value: bagging_freq=5\n",
      "[LightGBM] [Warning] min_sum_hessian_in_leaf is set=10.0, min_child_weight=0.001 will be ignored. Current value: min_sum_hessian_in_leaf=10.0\n",
      "[LightGBM] [Warning] num_threads is set=8, n_jobs=-1 will be ignored. Current value: num_threads=8\n",
      "[LightGBM] [Warning] min_data_in_leaf is set=80, min_child_samples=20 will be ignored. Current value: min_data_in_leaf=80\n",
      "[LightGBM] [Warning] feature_fraction is set=0.045, colsample_bytree=1.0 will be ignored. Current value: feature_fraction=0.045\n",
      "[LightGBM] [Warning] bagging_fraction is set=0.331, subsample=1.0 will be ignored. Current value: bagging_fraction=0.331\n",
      "[LightGBM] [Warning] boosting is set with boost=gbdt, boosting_type=gbdt will be ignored. Current value: boosting=gbdt\n",
      "[LightGBM] [Warning] bagging_freq is set=5, subsample_freq=0 will be ignored. Current value: bagging_freq=5\n",
      "[LightGBM] [Warning] min_sum_hessian_in_leaf is set=10.0, min_child_weight=0.001 will be ignored. Current value: min_sum_hessian_in_leaf=10.0\n",
      "[LightGBM] [Warning] num_threads is set=8, n_jobs=-1 will be ignored. Current value: num_threads=8\n",
      "[LightGBM] [Warning] min_data_in_leaf is set=80, min_child_samples=20 will be ignored. Current value: min_data_in_leaf=80\n",
      "[LightGBM] [Warning] feature_fraction is set=0.045, colsample_bytree=1.0 will be ignored. Current value: feature_fraction=0.045\n",
      "[LightGBM] [Warning] bagging_fraction is set=0.331, subsample=1.0 will be ignored. Current value: bagging_fraction=0.331\n",
      "[LightGBM] [Warning] boosting is set with boost=gbdt, boosting_type=gbdt will be ignored. Current value: boosting=gbdt\n",
      "[LightGBM] [Warning] bagging_freq is set=5, subsample_freq=0 will be ignored. Current value: bagging_freq=5\n",
      "[LightGBM] [Warning] min_sum_hessian_in_leaf is set=10.0, min_child_weight=0.001 will be ignored. Current value: min_sum_hessian_in_leaf=10.0\n",
      "[LightGBM] [Warning] num_threads is set=8, n_jobs=-1 will be ignored. Current value: num_threads=8\n",
      "[LightGBM] [Warning] min_data_in_leaf is set=80, min_child_samples=20 will be ignored. Current value: min_data_in_leaf=80\n",
      "[LightGBM] [Warning] feature_fraction is set=0.045, colsample_bytree=1.0 will be ignored. Current value: feature_fraction=0.045\n",
      "[LightGBM] [Warning] bagging_fraction is set=0.331, subsample=1.0 will be ignored. Current value: bagging_fraction=0.331\n"
     ]
    },
    {
     "name": "stderr",
     "output_type": "stream",
     "text": [
      "[Parallel(n_jobs=1)]: Using backend SequentialBackend with 1 concurrent workers.\n",
      "[Parallel(n_jobs=1)]: Using backend SequentialBackend with 1 concurrent workers.\n"
     ]
    },
    {
     "name": "stdout",
     "output_type": "stream",
     "text": [
      "[LightGBM] [Warning] boosting is set with boost=gbdt, boosting_type=gbdt will be ignored. Current value: boosting=gbdt\n",
      "[LightGBM] [Warning] bagging_freq is set=5, subsample_freq=0 will be ignored. Current value: bagging_freq=5\n",
      "[LightGBM] [Warning] min_sum_hessian_in_leaf is set=10.0, min_child_weight=0.001 will be ignored. Current value: min_sum_hessian_in_leaf=10.0\n",
      "[LightGBM] [Warning] num_threads is set=8, n_jobs=-1 will be ignored. Current value: num_threads=8\n",
      "[LightGBM] [Warning] min_data_in_leaf is set=80, min_child_samples=20 will be ignored. Current value: min_data_in_leaf=80\n",
      "[LightGBM] [Warning] feature_fraction is set=0.045, colsample_bytree=1.0 will be ignored. Current value: feature_fraction=0.045\n",
      "[LightGBM] [Warning] bagging_fraction is set=0.331, subsample=1.0 will be ignored. Current value: bagging_fraction=0.331\n",
      "[LightGBM] [Info] Number of positive: 12862, number of negative: 80000\n",
      "[LightGBM] [Warning] Auto-choosing col-wise multi-threading, the overhead of testing was 0.521461 seconds.\n",
      "You can set `force_col_wise=true` to remove the overhead.\n",
      "[LightGBM] [Info] Total Bins 157138\n",
      "[LightGBM] [Info] Number of data points in the train set: 92862, number of used features: 800\n",
      "[LightGBM] [Warning] boosting is set with boost=gbdt, boosting_type=gbdt will be ignored. Current value: boosting=gbdt\n",
      "[LightGBM] [Warning] bagging_freq is set=5, subsample_freq=0 will be ignored. Current value: bagging_freq=5\n",
      "[LightGBM] [Warning] min_sum_hessian_in_leaf is set=10.0, min_child_weight=0.001 will be ignored. Current value: min_sum_hessian_in_leaf=10.0\n",
      "[LightGBM] [Warning] num_threads is set=8, n_jobs=-1 will be ignored. Current value: num_threads=8\n",
      "[LightGBM] [Warning] min_data_in_leaf is set=80, min_child_samples=20 will be ignored. Current value: min_data_in_leaf=80\n",
      "[LightGBM] [Warning] feature_fraction is set=0.045, colsample_bytree=1.0 will be ignored. Current value: feature_fraction=0.045\n",
      "[LightGBM] [Warning] bagging_fraction is set=0.331, subsample=1.0 will be ignored. Current value: bagging_fraction=0.331\n",
      "[LightGBM] [Info] Number of positive: 12862, number of negative: 80000\n",
      "[LightGBM] [Warning] Auto-choosing col-wise multi-threading, the overhead of testing was 0.503728 seconds.\n",
      "You can set `force_col_wise=true` to remove the overhead.\n",
      "[LightGBM] [Info] Total Bins 157136\n",
      "[LightGBM] [Info] Number of data points in the train set: 92862, number of used features: 800\n",
      "[LightGBM] [Warning] boosting is set with boost=gbdt, boosting_type=gbdt will be ignored. Current value: boosting=gbdt\n",
      "[LightGBM] [Warning] bagging_freq is set=5, subsample_freq=0 will be ignored. Current value: bagging_freq=5\n",
      "[LightGBM] [Warning] min_sum_hessian_in_leaf is set=10.0, min_child_weight=0.001 will be ignored. Current value: min_sum_hessian_in_leaf=10.0\n",
      "[LightGBM] [Warning] num_threads is set=8, n_jobs=-1 will be ignored. Current value: num_threads=8\n",
      "[LightGBM] [Warning] min_data_in_leaf is set=80, min_child_samples=20 will be ignored. Current value: min_data_in_leaf=80\n",
      "[LightGBM] [Warning] feature_fraction is set=0.045, colsample_bytree=1.0 will be ignored. Current value: feature_fraction=0.045\n",
      "[LightGBM] [Warning] bagging_fraction is set=0.331, subsample=1.0 will be ignored. Current value: bagging_fraction=0.331\n",
      "[LightGBM] [Info] Number of positive: 12862, number of negative: 80000\n",
      "[LightGBM] [Warning] Auto-choosing col-wise multi-threading, the overhead of testing was 0.239872 seconds.\n",
      "You can set `force_col_wise=true` to remove the overhead.\n",
      "[LightGBM] [Info] Total Bins 157136\n",
      "[LightGBM] [Info] Number of data points in the train set: 92862, number of used features: 800\n",
      "[LightGBM] [Warning] boosting is set with boost=gbdt, boosting_type=gbdt will be ignored. Current value: boosting=gbdt\n",
      "[LightGBM] [Warning] bagging_freq is set=5, subsample_freq=0 will be ignored. Current value: bagging_freq=5\n",
      "[LightGBM] [Warning] min_sum_hessian_in_leaf is set=10.0, min_child_weight=0.001 will be ignored. Current value: min_sum_hessian_in_leaf=10.0\n",
      "[LightGBM] [Warning] num_threads is set=8, n_jobs=-1 will be ignored. Current value: num_threads=8\n",
      "[LightGBM] [Warning] min_data_in_leaf is set=80, min_child_samples=20 will be ignored. Current value: min_data_in_leaf=80\n",
      "[LightGBM] [Warning] feature_fraction is set=0.045, colsample_bytree=1.0 will be ignored. Current value: feature_fraction=0.045\n",
      "[LightGBM] [Warning] bagging_fraction is set=0.331, subsample=1.0 will be ignored. Current value: bagging_fraction=0.331\n",
      "[LightGBM] [Warning] boosting is set with boost=gbdt, boosting_type=gbdt will be ignored. Current value: boosting=gbdt\n",
      "[LightGBM] [Warning] bagging_freq is set=5, subsample_freq=0 will be ignored. Current value: bagging_freq=5\n",
      "[LightGBM] [Warning] min_sum_hessian_in_leaf is set=10.0, min_child_weight=0.001 will be ignored. Current value: min_sum_hessian_in_leaf=10.0\n",
      "[LightGBM] [Warning] num_threads is set=8, n_jobs=-1 will be ignored. Current value: num_threads=8\n",
      "[LightGBM] [Warning] min_data_in_leaf is set=80, min_child_samples=20 will be ignored. Current value: min_data_in_leaf=80\n",
      "[LightGBM] [Warning] feature_fraction is set=0.045, colsample_bytree=1.0 will be ignored. Current value: feature_fraction=0.045\n",
      "[LightGBM] [Warning] bagging_fraction is set=0.331, subsample=1.0 will be ignored. Current value: bagging_fraction=0.331\n",
      "[LightGBM] [Warning] boosting is set with boost=gbdt, boosting_type=gbdt will be ignored. Current value: boosting=gbdt\n",
      "[LightGBM] [Warning] bagging_freq is set=5, subsample_freq=0 will be ignored. Current value: bagging_freq=5\n",
      "[LightGBM] [Warning] min_sum_hessian_in_leaf is set=10.0, min_child_weight=0.001 will be ignored. Current value: min_sum_hessian_in_leaf=10.0\n",
      "[LightGBM] [Warning] num_threads is set=8, n_jobs=-1 will be ignored. Current value: num_threads=8\n",
      "[LightGBM] [Warning] min_data_in_leaf is set=80, min_child_samples=20 will be ignored. Current value: min_data_in_leaf=80\n",
      "[LightGBM] [Warning] feature_fraction is set=0.045, colsample_bytree=1.0 will be ignored. Current value: feature_fraction=0.045\n",
      "[LightGBM] [Warning] bagging_fraction is set=0.331, subsample=1.0 will be ignored. Current value: bagging_fraction=0.331\n",
      "[LightGBM] [Info] Number of positive: 12863, number of negative: 80000\n",
      "[LightGBM] [Warning] Auto-choosing row-wise multi-threading, the overhead of testing was 0.004128 seconds.\n",
      "You can set `force_row_wise=true` to remove the overhead.\n",
      "And if memory is not enough, you can set `force_col_wise=true`.\n",
      "[LightGBM] [Info] Total Bins 157138\n",
      "[LightGBM] [Info] Number of data points in the train set: 92863, number of used features: 800\n",
      "[LightGBM] [Warning] boosting is set with boost=gbdt, boosting_type=gbdt will be ignored. Current value: boosting=gbdt\n",
      "[LightGBM] [Warning] bagging_freq is set=5, subsample_freq=0 will be ignored. Current value: bagging_freq=5\n",
      "[LightGBM] [Warning] min_sum_hessian_in_leaf is set=10.0, min_child_weight=0.001 will be ignored. Current value: min_sum_hessian_in_leaf=10.0\n",
      "[LightGBM] [Warning] num_threads is set=8, n_jobs=-1 will be ignored. Current value: num_threads=8\n",
      "[LightGBM] [Warning] min_data_in_leaf is set=80, min_child_samples=20 will be ignored. Current value: min_data_in_leaf=80\n",
      "[LightGBM] [Warning] feature_fraction is set=0.045, colsample_bytree=1.0 will be ignored. Current value: feature_fraction=0.045\n",
      "[LightGBM] [Warning] bagging_fraction is set=0.331, subsample=1.0 will be ignored. Current value: bagging_fraction=0.331\n",
      "[LightGBM] [Info] Number of positive: 12863, number of negative: 80000\n",
      "[LightGBM] [Warning] Auto-choosing col-wise multi-threading, the overhead of testing was 0.307248 seconds.\n",
      "You can set `force_col_wise=true` to remove the overhead.\n",
      "[LightGBM] [Info] Total Bins 157136\n",
      "[LightGBM] [Info] Number of data points in the train set: 92863, number of used features: 800\n"
     ]
    },
    {
     "name": "stderr",
     "output_type": "stream",
     "text": [
      "[Parallel(n_jobs=3)]: Done   5 out of   5 | elapsed:  2.0min finished\n"
     ]
    },
    {
     "name": "stdout",
     "output_type": "stream",
     "text": [
      "max_iter reached after 69 seconds\n"
     ]
    },
    {
     "name": "stderr",
     "output_type": "stream",
     "text": [
      "/Users/charan/miniforge3/lib/python3.9/site-packages/sklearn/linear_model/_sag.py:352: ConvergenceWarning: The max_iter was reached which means the coef_ did not converge\n",
      "  warnings.warn(\n",
      "[Parallel(n_jobs=1)]: Done   1 out of   1 | elapsed:  2.1min finished\n",
      "[Parallel(n_jobs=1)]: Using backend SequentialBackend with 1 concurrent workers.\n",
      "/Users/charan/miniforge3/lib/python3.9/site-packages/sklearn/linear_model/_sag.py:352: ConvergenceWarning: The max_iter was reached which means the coef_ did not converge\n",
      "  warnings.warn(\n",
      "[Parallel(n_jobs=1)]: Done   1 out of   1 | elapsed:  2.0min finished\n",
      "/Users/charan/miniforge3/lib/python3.9/site-packages/sklearn/linear_model/_sag.py:352: ConvergenceWarning: The max_iter was reached which means the coef_ did not converge\n",
      "  warnings.warn(\n",
      "[Parallel(n_jobs=1)]: Done   1 out of   1 | elapsed:  1.9min finished\n",
      "[Parallel(n_jobs=1)]: Using backend SequentialBackend with 1 concurrent workers.\n",
      "/Users/charan/miniforge3/lib/python3.9/site-packages/sklearn/linear_model/_sag.py:352: ConvergenceWarning: The max_iter was reached which means the coef_ did not converge\n",
      "  warnings.warn(\n",
      "[Parallel(n_jobs=1)]: Done   1 out of   1 | elapsed:  1.0min finished\n",
      "/Users/charan/miniforge3/lib/python3.9/site-packages/sklearn/linear_model/_sag.py:352: ConvergenceWarning: The max_iter was reached which means the coef_ did not converge\n",
      "  warnings.warn(\n",
      "[Parallel(n_jobs=1)]: Done   1 out of   1 | elapsed:   56.5s finished\n",
      "[Parallel(n_jobs=3)]: Done   5 out of   5 | elapsed:  3.6min finished\n"
     ]
    },
    {
     "name": "stdout",
     "output_type": "stream",
     "text": [
      "[LightGBM] [Warning] boosting is set with boost=gbdt, boosting_type=gbdt will be ignored. Current value: boosting=gbdt\n",
      "[LightGBM] [Warning] bagging_freq is set=5, subsample_freq=0 will be ignored. Current value: bagging_freq=5\n",
      "[LightGBM] [Warning] min_sum_hessian_in_leaf is set=10.0, min_child_weight=0.001 will be ignored. Current value: min_sum_hessian_in_leaf=10.0\n",
      "[LightGBM] [Warning] num_threads is set=8, n_jobs=-1 will be ignored. Current value: num_threads=8\n",
      "[LightGBM] [Warning] min_data_in_leaf is set=80, min_child_samples=20 will be ignored. Current value: min_data_in_leaf=80\n",
      "[LightGBM] [Warning] feature_fraction is set=0.045, colsample_bytree=1.0 will be ignored. Current value: feature_fraction=0.045\n",
      "[LightGBM] [Warning] bagging_fraction is set=0.331, subsample=1.0 will be ignored. Current value: bagging_fraction=0.331\n",
      "[LightGBM] [Warning] boosting is set with boost=gbdt, boosting_type=gbdt will be ignored. Current value: boosting=gbdt\n",
      "[LightGBM] [Warning] bagging_freq is set=5, subsample_freq=0 will be ignored. Current value: bagging_freq=5\n",
      "[LightGBM] [Warning] min_sum_hessian_in_leaf is set=10.0, min_child_weight=0.001 will be ignored. Current value: min_sum_hessian_in_leaf=10.0\n",
      "[LightGBM] [Warning] num_threads is set=8, n_jobs=-1 will be ignored. Current value: num_threads=8\n",
      "[LightGBM] [Warning] min_data_in_leaf is set=80, min_child_samples=20 will be ignored. Current value: min_data_in_leaf=80\n",
      "[LightGBM] [Warning] feature_fraction is set=0.045, colsample_bytree=1.0 will be ignored. Current value: feature_fraction=0.045\n",
      "[LightGBM] [Warning] bagging_fraction is set=0.331, subsample=1.0 will be ignored. Current value: bagging_fraction=0.331\n",
      "[LightGBM] [Info] Number of positive: 16078, number of negative: 100000\n",
      "[LightGBM] [Warning] Auto-choosing col-wise multi-threading, the overhead of testing was 0.216071 seconds.\n",
      "You can set `force_col_wise=true` to remove the overhead.\n",
      "[LightGBM] [Info] Total Bins 157144\n",
      "[LightGBM] [Info] Number of data points in the train set: 116078, number of used features: 800\n",
      "max_iter reached after 127 seconds\n",
      "max_iter reached after 117 seconds\n",
      "max_iter reached after 117 seconds\n",
      "max_iter reached after 61 seconds\n",
      "max_iter reached after 57 seconds\n",
      "Epoch 1, change: 1.00000000\n",
      "Epoch 2, change: 0.40218852\n",
      "Epoch 3, change: 0.21960630\n",
      "Epoch 4, change: 0.17677894\n",
      "Epoch 5, change: 0.15241119\n",
      "Epoch 6, change: 0.12710400\n",
      "Epoch 7, change: 0.10714369\n",
      "Epoch 8, change: 0.09236497\n",
      "Epoch 9, change: 0.08241769\n",
      "Epoch 10, change: 0.07329043\n",
      "Epoch 11, change: 0.06602124\n",
      "Epoch 12, change: 0.05978028\n",
      "Epoch 13, change: 0.05502413\n",
      "Epoch 14, change: 0.05100779\n",
      "Epoch 15, change: 0.04670873\n",
      "Epoch 16, change: 0.04342917\n",
      "Epoch 17, change: 0.04055136\n",
      "Epoch 18, change: 0.03779307\n",
      "Epoch 19, change: 0.03536404\n",
      "Epoch 20, change: 0.03312703\n",
      "Epoch 21, change: 0.03132415\n",
      "Epoch 22, change: 0.02954732\n",
      "Epoch 23, change: 0.02797292\n",
      "Epoch 24, change: 0.02645800\n",
      "Epoch 25, change: 0.02521516\n",
      "Epoch 26, change: 0.02407963\n",
      "Epoch 27, change: 0.02290195\n",
      "Epoch 28, change: 0.02186689\n",
      "Epoch 1, change: 1.00000000\n",
      "Epoch 1, change: 1.00000000\n",
      "Epoch 29, change: 0.02102735\n",
      "Epoch 2, change: 0.41014954\n",
      "Epoch 2, change: 0.43230738\n",
      "Epoch 30, change: 0.02018924\n",
      "Epoch 3, change: 0.24142500\n",
      "Epoch 3, change: 0.22924753\n",
      "Epoch 31, change: 0.01942897\n",
      "Epoch 4, change: 0.18395638\n",
      "Epoch 4, change: 0.18014674\n",
      "Epoch 32, change: 0.01875957\n",
      "Epoch 5, change: 0.15204295\n",
      "Epoch 5, change: 0.15252666\n",
      "Epoch 33, change: 0.01800578\n",
      "Epoch 6, change: 0.12471844\n",
      "Epoch 6, change: 0.12739405\n",
      "Epoch 34, change: 0.01737905\n",
      "Epoch 7, change: 0.10458844\n",
      "Epoch 7, change: 0.10521888\n",
      "Epoch 35, change: 0.01681570\n",
      "Epoch 8, change: 0.09226636\n",
      "Epoch 8, change: 0.09299263\n",
      "Epoch 36, change: 0.01623671\n",
      "Epoch 9, change: 0.08183460\n",
      "Epoch 9, change: 0.08345262\n",
      "Epoch 37, change: 0.01566893\n",
      "Epoch 10, change: 0.07207113\n",
      "Epoch 10, change: 0.07352082\n",
      "Epoch 11, change: 0.06508236\n",
      "Epoch 38, change: 0.01518462\n",
      "Epoch 11, change: 0.06641771\n",
      "Epoch 12, change: 0.05950677\n",
      "Epoch 12, change: 0.06051694\n",
      "Epoch 39, change: 0.01467341\n",
      "Epoch 13, change: 0.05413740\n",
      "Epoch 13, change: 0.05559767\n",
      "Epoch 40, change: 0.01419388\n",
      "Epoch 14, change: 0.05029096\n",
      "Epoch 14, change: 0.05109525\n",
      "Epoch 41, change: 0.01381081\n",
      "Epoch 15, change: 0.04603330\n",
      "Epoch 15, change: 0.04709935\n",
      "Epoch 42, change: 0.01341375\n",
      "Epoch 16, change: 0.04291119\n",
      "Epoch 16, change: 0.04355338\n",
      "Epoch 43, change: 0.01301276\n",
      "Epoch 17, change: 0.04015187\n",
      "Epoch 17, change: 0.04066648\n",
      "Epoch 44, change: 0.01262548\n",
      "Epoch 18, change: 0.03763994\n",
      "Epoch 18, change: 0.03798668\n",
      "Epoch 45, change: 0.01227952\n",
      "Epoch 19, change: 0.03540083\n",
      "Epoch 19, change: 0.03556336\n",
      "Epoch 46, change: 0.01195273\n",
      "Epoch 20, change: 0.03351083\n",
      "Epoch 20, change: 0.03351036\n",
      "Epoch 47, change: 0.01160571\n",
      "Epoch 21, change: 0.03172289\n",
      "Epoch 21, change: 0.03173760\n",
      "Epoch 48, change: 0.01130971\n",
      "Epoch 22, change: 0.03013170\n",
      "Epoch 22, change: 0.02997455\n",
      "Epoch 49, change: 0.01101627\n",
      "Epoch 23, change: 0.02860602\n",
      "Epoch 23, change: 0.02852209\n",
      "Epoch 50, change: 0.01072961\n",
      "Epoch 24, change: 0.02722639\n",
      "Epoch 24, change: 0.02714219\n",
      "Epoch 51, change: 0.01044025\n",
      "Epoch 25, change: 0.02609009\n",
      "Epoch 25, change: 0.02597254\n",
      "Epoch 52, change: 0.01018927\n",
      "Epoch 26, change: 0.02488639\n",
      "Epoch 26, change: 0.02470183\n",
      "Epoch 53, change: 0.00992845\n",
      "Epoch 27, change: 0.02388284\n",
      "Epoch 27, change: 0.02364988\n",
      "Epoch 54, change: 0.00967902\n",
      "Epoch 28, change: 0.02288755\n",
      "Epoch 28, change: 0.02260497\n",
      "Epoch 29, change: 0.02193306\n",
      "Epoch 55, change: 0.00945463\n",
      "Epoch 29, change: 0.02171039\n",
      "Epoch 30, change: 0.02109145\n",
      "Epoch 56, change: 0.00921601\n",
      "Epoch 30, change: 0.02085714\n",
      "Epoch 31, change: 0.02030015\n",
      "Epoch 57, change: 0.00901264\n",
      "Epoch 31, change: 0.02004880\n",
      "Epoch 32, change: 0.01959192\n",
      "Epoch 58, change: 0.00880485\n",
      "Epoch 32, change: 0.01929494\n",
      "Epoch 33, change: 0.01881050\n",
      "Epoch 59, change: 0.00859423\n",
      "Epoch 33, change: 0.01856668\n",
      "Epoch 34, change: 0.01817504\n",
      "Epoch 34, change: 0.01792053\n",
      "Epoch 60, change: 0.00841024\n",
      "Epoch 35, change: 0.01756614\n",
      "Epoch 35, change: 0.01734233\n",
      "Epoch 61, change: 0.00824326\n",
      "Epoch 36, change: 0.01697153\n",
      "Epoch 36, change: 0.01672761\n",
      "Epoch 62, change: 0.00804352\n",
      "Epoch 37, change: 0.01642083\n",
      "Epoch 37, change: 0.01614008\n",
      "Epoch 63, change: 0.00786822\n",
      "Epoch 38, change: 0.01588341\n",
      "Epoch 38, change: 0.01563697\n",
      "Epoch 64, change: 0.00770169\n",
      "Epoch 39, change: 0.01534066\n",
      "Epoch 39, change: 0.01511172\n",
      "Epoch 65, change: 0.00753156\n",
      "Epoch 40, change: 0.01488023\n",
      "Epoch 40, change: 0.01463361\n",
      "Epoch 66, change: 0.00737028\n",
      "Epoch 41, change: 0.01445358\n",
      "Epoch 41, change: 0.01416492\n",
      "Epoch 67, change: 0.00721772\n",
      "Epoch 42, change: 0.01405618\n",
      "Epoch 42, change: 0.01377402\n",
      "Epoch 68, change: 0.00707309\n",
      "Epoch 43, change: 0.01364121\n",
      "Epoch 43, change: 0.01335035\n",
      "Epoch 69, change: 0.00693575\n",
      "Epoch 44, change: 0.01322357\n",
      "Epoch 44, change: 0.01296545\n",
      "Epoch 70, change: 0.00679460\n",
      "Epoch 45, change: 0.01286079\n",
      "Epoch 45, change: 0.01259595\n",
      "Epoch 71, change: 0.00665810\n",
      "Epoch 46, change: 0.01251380\n",
      "Epoch 46, change: 0.01225153\n",
      "Epoch 72, change: 0.00653989\n",
      "Epoch 47, change: 0.01216639\n",
      "Epoch 47, change: 0.01189635\n",
      "Epoch 73, change: 0.00640669\n",
      "Epoch 48, change: 0.01182975\n",
      "Epoch 48, change: 0.01159533\n",
      "Epoch 74, change: 0.00628552\n",
      "Epoch 49, change: 0.01149870\n",
      "Epoch 49, change: 0.01127650\n",
      "Epoch 75, change: 0.00616414\n",
      "Epoch 50, change: 0.01120193\n",
      "Epoch 50, change: 0.01097016\n",
      "Epoch 76, change: 0.00604699\n",
      "Epoch 51, change: 0.01088507\n",
      "Epoch 51, change: 0.01069187\n",
      "Epoch 77, change: 0.00593960\n",
      "Epoch 52, change: 0.01061569\n",
      "Epoch 52, change: 0.01041937\n",
      "Epoch 78, change: 0.00583333\n",
      "Epoch 53, change: 0.01032157\n",
      "Epoch 53, change: 0.01016624\n",
      "Epoch 79, change: 0.00571721\n",
      "Epoch 54, change: 0.01004475\n",
      "Epoch 54, change: 0.00988460\n",
      "Epoch 80, change: 0.00561756\n",
      "Epoch 55, change: 0.00979142\n",
      "Epoch 55, change: 0.00966408\n",
      "Epoch 81, change: 0.00550917\n",
      "Epoch 56, change: 0.00955199\n",
      "Epoch 56, change: 0.00942625\n",
      "Epoch 82, change: 0.00540667\n",
      "Epoch 57, change: 0.00931801\n",
      "Epoch 57, change: 0.00920584\n",
      "Epoch 83, change: 0.00531970\n",
      "Epoch 58, change: 0.00908539\n",
      "Epoch 58, change: 0.00898133\n",
      "Epoch 84, change: 0.00522959\n",
      "Epoch 59, change: 0.00886435\n",
      "Epoch 59, change: 0.00876795\n",
      "Epoch 85, change: 0.00512952\n",
      "Epoch 60, change: 0.00865943\n",
      "Epoch 60, change: 0.00855637\n",
      "Epoch 86, change: 0.00504693\n",
      "Epoch 61, change: 0.00848150\n",
      "Epoch 61, change: 0.00837512\n",
      "Epoch 87, change: 0.00496028\n",
      "Epoch 62, change: 0.00826892\n",
      "Epoch 62, change: 0.00816426\n",
      "Epoch 88, change: 0.00487979\n",
      "Epoch 63, change: 0.00807500\n",
      "Epoch 63, change: 0.00796925\n",
      "Epoch 89, change: 0.00479987\n",
      "Epoch 64, change: 0.00790340\n",
      "Epoch 64, change: 0.00780163\n",
      "Epoch 90, change: 0.00471590\n",
      "Epoch 65, change: 0.00772989\n",
      "Epoch 65, change: 0.00762674\n",
      "Epoch 91, change: 0.00464470\n",
      "Epoch 66, change: 0.00755740\n",
      "Epoch 66, change: 0.00744650\n",
      "Epoch 92, change: 0.00455596\n",
      "Epoch 67, change: 0.00739185\n",
      "Epoch 67, change: 0.00729021\n",
      "Epoch 93, change: 0.00448317\n",
      "Epoch 68, change: 0.00723742\n",
      "Epoch 68, change: 0.00713227\n",
      "Epoch 94, change: 0.00441035\n",
      "Epoch 69, change: 0.00708216\n",
      "Epoch 69, change: 0.00698512\n",
      "Epoch 95, change: 0.00434354\n",
      "Epoch 70, change: 0.00692765\n",
      "Epoch 70, change: 0.00683338\n",
      "Epoch 96, change: 0.00426861\n",
      "Epoch 71, change: 0.00678907\n",
      "Epoch 71, change: 0.00669389\n",
      "Epoch 97, change: 0.00420643\n",
      "Epoch 72, change: 0.00665677\n",
      "Epoch 72, change: 0.00656418\n",
      "Epoch 98, change: 0.00413957\n",
      "Epoch 73, change: 0.00651950\n",
      "Epoch 73, change: 0.00642558\n",
      "Epoch 99, change: 0.00407567\n",
      "Epoch 74, change: 0.00639945\n",
      "Epoch 74, change: 0.00629833\n",
      "Epoch 100, change: 0.00401796\n",
      "Epoch 75, change: 0.00626890\n",
      "Epoch 75, change: 0.00616992\n",
      "Epoch 76, change: 0.00615033\n",
      "Epoch 76, change: 0.00605400\n",
      "Epoch 77, change: 0.00602786\n",
      "Epoch 77, change: 0.00593765\n",
      "Epoch 78, change: 0.00591734\n",
      "Epoch 78, change: 0.00582866\n",
      "Epoch 79, change: 0.00573398\n",
      "Epoch 79, change: 0.00579504\n",
      "Epoch 1, change: 1.00000000\n",
      "Epoch 80, change: 0.00562845\n",
      "Epoch 80, change: 0.00568875\n",
      "Epoch 2, change: 0.33636445\n",
      "Epoch 81, change: 0.00552499\n",
      "Epoch 3, change: 0.21576879\n",
      "Epoch 81, change: 0.00557455\n",
      "Epoch 4, change: 0.17458292\n",
      "Epoch 82, change: 0.00542872\n",
      "Epoch 82, change: 0.00547643\n",
      "Epoch 5, change: 0.14713194\n",
      "Epoch 83, change: 0.00533814\n",
      "Epoch 83, change: 0.00537650\n",
      "Epoch 6, change: 0.12535879\n",
      "Epoch 84, change: 0.00524698\n",
      "Epoch 84, change: 0.00528389\n",
      "Epoch 7, change: 0.10792445\n",
      "Epoch 85, change: 0.00515658\n",
      "Epoch 85, change: 0.00517980\n",
      "Epoch 8, change: 0.09322066\n",
      "Epoch 86, change: 0.00507001\n",
      "Epoch 86, change: 0.00509507\n",
      "Epoch 9, change: 0.08051656\n",
      "Epoch 87, change: 0.00498752\n",
      "Epoch 87, change: 0.00499989\n",
      "Epoch 10, change: 0.07369968\n",
      "Epoch 88, change: 0.00490288\n",
      "Epoch 88, change: 0.00491766\n",
      "Epoch 11, change: 0.06594979\n",
      "Epoch 89, change: 0.00483436\n",
      "Epoch 12, change: 0.05998258\n",
      "Epoch 89, change: 0.00483311\n",
      "Epoch 13, change: 0.05435546\n",
      "Epoch 90, change: 0.00475362\n",
      "Epoch 90, change: 0.00474472\n",
      "Epoch 14, change: 0.05000350\n",
      "Epoch 91, change: 0.00467177\n",
      "Epoch 91, change: 0.00466852\n",
      "Epoch 15, change: 0.04649441\n",
      "Epoch 92, change: 0.00459958\n",
      "Epoch 92, change: 0.00458039\n",
      "Epoch 16, change: 0.04297431\n",
      "Epoch 93, change: 0.00452426\n",
      "Epoch 93, change: 0.00450869\n",
      "Epoch 17, change: 0.04007865\n",
      "Epoch 94, change: 0.00445270\n",
      "Epoch 94, change: 0.00442944\n",
      "Epoch 18, change: 0.03752075\n",
      "Epoch 95, change: 0.00438421\n",
      "Epoch 95, change: 0.00435714\n",
      "Epoch 19, change: 0.03500649\n",
      "Epoch 96, change: 0.00431706\n",
      "Epoch 96, change: 0.00428014\n",
      "Epoch 20, change: 0.03297343\n",
      "Epoch 97, change: 0.00425532\n",
      "Epoch 21, change: 0.03096065\n",
      "Epoch 97, change: 0.00421419\n",
      "Epoch 98, change: 0.00419234\n",
      "Epoch 22, change: 0.02937486\n",
      "Epoch 98, change: 0.00414629\n",
      "Epoch 99, change: 0.00413327\n",
      "Epoch 23, change: 0.02780338\n",
      "Epoch 99, change: 0.00408244\n",
      "Epoch 100, change: 0.00407040\n",
      "Epoch 24, change: 0.02634418\n",
      "Epoch 100, change: 0.00401746\n",
      "Epoch 25, change: 0.02494356\n",
      "Epoch 26, change: 0.02385928\n",
      "Epoch 1, change: 1.00000000\n",
      "Epoch 27, change: 0.02269716\n",
      "Epoch 2, change: 0.36041764\n",
      "Epoch 28, change: 0.02168032\n",
      "Epoch 3, change: 0.22612848\n",
      "Epoch 29, change: 0.02072602\n",
      "Epoch 4, change: 0.18064123\n",
      "Epoch 30, change: 0.01980083\n",
      "Epoch 5, change: 0.14865967\n",
      "Epoch 31, change: 0.01898139\n",
      "Epoch 6, change: 0.12701666\n",
      "Epoch 32, change: 0.01822970\n",
      "Epoch 7, change: 0.10687513\n",
      "Epoch 8, change: 0.09345247\n",
      "Epoch 33, change: 0.01757012\n",
      "Epoch 9, change: 0.08006173\n",
      "Epoch 34, change: 0.01695803\n",
      "Epoch 10, change: 0.07390890\n",
      "Epoch 35, change: 0.01633475\n",
      "Epoch 11, change: 0.06559523\n",
      "Epoch 36, change: 0.01578984\n",
      "Epoch 12, change: 0.05983491\n",
      "Epoch 37, change: 0.01525530\n",
      "Epoch 13, change: 0.05484711\n",
      "Epoch 38, change: 0.01476167\n",
      "Epoch 14, change: 0.05033167\n",
      "Epoch 39, change: 0.01430272\n",
      "Epoch 15, change: 0.04669660\n",
      "Epoch 40, change: 0.01383456\n",
      "Epoch 16, change: 0.04292218\n",
      "Epoch 41, change: 0.01340997\n",
      "Epoch 17, change: 0.04005184\n",
      "Epoch 42, change: 0.01300524\n",
      "Epoch 18, change: 0.03756676\n",
      "Epoch 43, change: 0.01264584\n",
      "Epoch 19, change: 0.03505807\n",
      "Epoch 44, change: 0.01224155\n",
      "Epoch 20, change: 0.03294752\n",
      "Epoch 45, change: 0.01194503\n",
      "Epoch 21, change: 0.03110386\n",
      "Epoch 46, change: 0.01155932\n",
      "Epoch 22, change: 0.02945525\n",
      "Epoch 23, change: 0.02788132\n",
      "Epoch 47, change: 0.01127698\n",
      "Epoch 24, change: 0.02648220\n",
      "Epoch 48, change: 0.01095308\n",
      "Epoch 25, change: 0.02505301\n",
      "Epoch 49, change: 0.01063624\n",
      "Epoch 26, change: 0.02393167\n",
      "Epoch 50, change: 0.01036044\n",
      "Epoch 27, change: 0.02280547\n",
      "Epoch 51, change: 0.01012269\n",
      "Epoch 28, change: 0.02174632\n",
      "Epoch 52, change: 0.00986846\n",
      "Epoch 29, change: 0.02084233\n",
      "Epoch 53, change: 0.00962169\n",
      "Epoch 30, change: 0.01988695\n",
      "Epoch 54, change: 0.00938927\n",
      "Epoch 31, change: 0.01905906\n",
      "Epoch 55, change: 0.00917159\n",
      "Epoch 32, change: 0.01828548\n",
      "Epoch 56, change: 0.00896116\n",
      "Epoch 33, change: 0.01749897\n",
      "Epoch 57, change: 0.00875489\n",
      "Epoch 34, change: 0.01684949\n",
      "Epoch 58, change: 0.00856956\n",
      "Epoch 35, change: 0.01626445\n",
      "Epoch 59, change: 0.00837855\n",
      "Epoch 36, change: 0.01566376\n",
      "Epoch 60, change: 0.00819362\n",
      "Epoch 37, change: 0.01507919\n",
      "Epoch 61, change: 0.00801471\n",
      "Epoch 38, change: 0.01454288\n",
      "Epoch 62, change: 0.00785271\n",
      "Epoch 39, change: 0.01405517\n",
      "Epoch 63, change: 0.00768263\n",
      "Epoch 40, change: 0.01358651\n",
      "Epoch 64, change: 0.00753454\n",
      "Epoch 41, change: 0.01313165\n",
      "Epoch 65, change: 0.00737667\n",
      "Epoch 42, change: 0.01272330\n",
      "Epoch 66, change: 0.00722763\n",
      "Epoch 43, change: 0.01236329\n",
      "Epoch 67, change: 0.00707973\n",
      "Epoch 44, change: 0.01196262\n",
      "Epoch 68, change: 0.00695898\n",
      "Epoch 45, change: 0.01166095\n",
      "Epoch 46, change: 0.01130121\n",
      "Epoch 69, change: 0.00680207\n",
      "Epoch 47, change: 0.01100763\n",
      "Epoch 70, change: 0.00668872\n",
      "Epoch 48, change: 0.01069040\n",
      "Epoch 71, change: 0.00655756\n",
      "Epoch 49, change: 0.01039963\n",
      "Epoch 72, change: 0.00643354\n",
      "Epoch 50, change: 0.01013262\n",
      "Epoch 73, change: 0.00629889\n",
      "Epoch 51, change: 0.00987734\n",
      "Epoch 74, change: 0.00620405\n",
      "Epoch 52, change: 0.00962866\n",
      "Epoch 75, change: 0.00608551\n",
      "Epoch 53, change: 0.00939810\n",
      "Epoch 76, change: 0.00597806\n",
      "Epoch 54, change: 0.00916825\n",
      "Epoch 77, change: 0.00586968\n",
      "Epoch 55, change: 0.00892342\n",
      "Epoch 78, change: 0.00576825\n",
      "Epoch 56, change: 0.00870904\n",
      "Epoch 79, change: 0.00566451\n",
      "Epoch 57, change: 0.00849841\n",
      "Epoch 80, change: 0.00556847\n",
      "Epoch 58, change: 0.00830213\n",
      "Epoch 81, change: 0.00547497\n",
      "Epoch 59, change: 0.00812245\n",
      "Epoch 82, change: 0.00537616\n",
      "Epoch 60, change: 0.00794367\n",
      "Epoch 83, change: 0.00529231\n",
      "Epoch 61, change: 0.00778602\n",
      "Epoch 84, change: 0.00520308\n",
      "Epoch 62, change: 0.00760774\n",
      "Epoch 85, change: 0.00511205\n",
      "Epoch 63, change: 0.00745362\n",
      "Epoch 86, change: 0.00503198\n",
      "Epoch 64, change: 0.00730562\n",
      "Epoch 87, change: 0.00494919\n",
      "Epoch 65, change: 0.00716333\n",
      "Epoch 88, change: 0.00486949\n",
      "Epoch 66, change: 0.00701717\n",
      "Epoch 89, change: 0.00479245\n",
      "Epoch 67, change: 0.00687346\n",
      "Epoch 90, change: 0.00471886\n",
      "Epoch 68, change: 0.00675716\n",
      "Epoch 91, change: 0.00464363\n",
      "Epoch 69, change: 0.00660722\n",
      "Epoch 92, change: 0.00457046\n",
      "Epoch 70, change: 0.00649030\n",
      "Epoch 93, change: 0.00449930\n",
      "Epoch 71, change: 0.00636991\n",
      "Epoch 94, change: 0.00442443\n",
      "Epoch 72, change: 0.00624400\n",
      "Epoch 95, change: 0.00436265\n",
      "Epoch 73, change: 0.00612072\n",
      "Epoch 96, change: 0.00429017\n",
      "Epoch 74, change: 0.00602147\n",
      "Epoch 97, change: 0.00423678\n",
      "Epoch 75, change: 0.00591437\n",
      "Epoch 98, change: 0.00417339\n",
      "Epoch 76, change: 0.00580584\n",
      "Epoch 99, change: 0.00410172\n",
      "Epoch 77, change: 0.00569088\n",
      "Epoch 100, change: 0.00404519\n",
      "Epoch 78, change: 0.00560346\n",
      "Epoch 79, change: 0.00549786\n",
      "Epoch 80, change: 0.00541277\n",
      "Epoch 81, change: 0.00531568\n",
      "Epoch 82, change: 0.00521900\n",
      "Epoch 83, change: 0.00513873\n",
      "Epoch 84, change: 0.00505085\n",
      "Epoch 85, change: 0.00496726\n",
      "Epoch 86, change: 0.00488862\n",
      "Epoch 87, change: 0.00481333\n",
      "Epoch 88, change: 0.00473431\n",
      "Epoch 89, change: 0.00465394\n",
      "Epoch 90, change: 0.00458771\n",
      "Epoch 91, change: 0.00451689\n",
      "Epoch 92, change: 0.00444584\n",
      "Epoch 93, change: 0.00437815\n",
      "Epoch 94, change: 0.00430450\n",
      "Epoch 95, change: 0.00424390\n",
      "Epoch 96, change: 0.00417495\n",
      "Epoch 97, change: 0.00412429\n",
      "Epoch 98, change: 0.00406083\n",
      "Epoch 99, change: 0.00399432\n",
      "Epoch 100, change: 0.00393966\n"
     ]
    },
    {
     "data": {
      "text/plain": [
       "StackingClassifier(estimators=[('lr',\n",
       "                                LogisticRegression(C=0.1,\n",
       "                                                   class_weight='balanced',\n",
       "                                                   penalty='l1',\n",
       "                                                   random_state=47,\n",
       "                                                   solver='saga', verbose=1)),\n",
       "                               ('lgbm',\n",
       "                                LGBMClassifier(bagging_fraction=0.331,\n",
       "                                               bagging_freq=5, boost='gbdt',\n",
       "                                               boost_from_average='false',\n",
       "                                               class_weight='balanced',\n",
       "                                               feature_fraction=0.045,\n",
       "                                               learning_rate=0.0083,\n",
       "                                               metric='auc',\n",
       "                                               min_data_in_leaf=80,\n",
       "                                               min_sum...\n",
       "                                                 importance_type=None,\n",
       "                                                 interaction_constraints=None,\n",
       "                                                 learning_rate=0.05,\n",
       "                                                 max_bin=None,\n",
       "                                                 max_cat_to_onehot=None,\n",
       "                                                 max_delta_step=None,\n",
       "                                                 max_depth=5, max_leaves=None,\n",
       "                                                 min_child_weight=None,\n",
       "                                                 missing=nan,\n",
       "                                                 monotone_constraints=None,\n",
       "                                                 n_estimators=200, n_jobs=None,\n",
       "                                                 num_parallel_tree=None,\n",
       "                                                 predictor=None,\n",
       "                                                 random_state=47,\n",
       "                                                 reg_alpha=None,\n",
       "                                                 reg_lambda=None, ...),\n",
       "                   n_jobs=3, passthrough=True, verbose=1)"
      ]
     },
     "execution_count": 36,
     "metadata": {},
     "output_type": "execute_result"
    }
   ],
   "source": [
    "model.fit(X_train, y_train)"
   ]
  },
  {
   "cell_type": "markdown",
   "metadata": {
    "id": "8qGu217f0-PV"
   },
   "source": [
    "##### Evaluate model"
   ]
  },
  {
   "cell_type": "code",
   "execution_count": 37,
   "metadata": {
    "colab": {
     "base_uri": "https://localhost:8080/"
    },
    "id": "PiOBF9CA0_2S",
    "outputId": "251841bc-4af1-41cf-ca11-7b1903a96de6"
   },
   "outputs": [
    {
     "name": "stdout",
     "output_type": "stream",
     "text": [
      "Training AuC: \n",
      "\n"
     ]
    },
    {
     "data": {
      "text/plain": [
       "0.8113423732317924"
      ]
     },
     "execution_count": 37,
     "metadata": {},
     "output_type": "execute_result"
    }
   ],
   "source": [
    "print('Training AuC: \\n')\n",
    "model.score(X_train, y_train)"
   ]
  },
  {
   "cell_type": "code",
   "execution_count": 22,
   "metadata": {},
   "outputs": [],
   "source": [
    "# X_val = pd.read_csv(folder+'charan/X_val.csv', index_col=0)\n",
    "# y_val = pd.read_csv(folder+'charan/y_val.csv', index_col=0)"
   ]
  },
  {
   "cell_type": "code",
   "execution_count": 38,
   "metadata": {
    "id": "gBFfGX4b1PZg",
    "outputId": "595c687e-a3f5-43bc-b8ac-4f745d41d7f0"
   },
   "outputs": [
    {
     "name": "stdout",
     "output_type": "stream",
     "text": [
      "Validation AuC: \n",
      "\n"
     ]
    },
    {
     "data": {
      "text/plain": [
       "0.7959"
      ]
     },
     "execution_count": 38,
     "metadata": {},
     "output_type": "execute_result"
    }
   ],
   "source": [
    "print('Validation AuC: \\n')\n",
    "model.score(X_val, y_val)"
   ]
  },
  {
   "cell_type": "markdown",
   "metadata": {
    "id": "vII_Z2ds1X34"
   },
   "source": [
    "##### Save Model"
   ]
  },
  {
   "cell_type": "code",
   "execution_count": 39,
   "metadata": {
    "id": "0tg-iA6D1W03"
   },
   "outputs": [],
   "source": [
    "# save\n",
    "pkl.dump(model, open(folder + 'charan/' + \n",
    "                     'lgbm_lr_xgb_stack_20220420.pkl.dat', \n",
    "                     \"wb\"))\n",
    "# load\n",
    "# xgb_stack_loaded = pkl.load(open(folder + \"charan/\" +\n",
    "#lgbm_lr_xgb_stack_20220420.pkl.dat\", \"rb\"))"
   ]
  },
  {
   "cell_type": "code",
   "execution_count": 42,
   "metadata": {},
   "outputs": [
    {
     "name": "stdout",
     "output_type": "stream",
     "text": [
      "[LightGBM] [Warning] boosting is set with boost=gbdt, boosting_type=gbdt will be ignored. Current value: boosting=gbdt\n",
      "[LightGBM] [Warning] bagging_freq is set=5, subsample_freq=0 will be ignored. Current value: bagging_freq=5\n",
      "[LightGBM] [Warning] min_sum_hessian_in_leaf is set=10.0, min_child_weight=0.001 will be ignored. Current value: min_sum_hessian_in_leaf=10.0\n",
      "[LightGBM] [Warning] num_threads is set=8, n_jobs=-1 will be ignored. Current value: num_threads=8\n",
      "[LightGBM] [Warning] min_data_in_leaf is set=80, min_child_samples=20 will be ignored. Current value: min_data_in_leaf=80\n",
      "[LightGBM] [Warning] feature_fraction is set=0.045, colsample_bytree=1.0 will be ignored. Current value: feature_fraction=0.045\n",
      "[LightGBM] [Warning] bagging_fraction is set=0.331, subsample=1.0 will be ignored. Current value: bagging_fraction=0.331\n",
      "[LightGBM] [Warning] boosting is set with boost=gbdt, boosting_type=gbdt will be ignored. Current value: boosting=gbdt\n",
      "[LightGBM] [Warning] bagging_freq is set=5, subsample_freq=0 will be ignored. Current value: bagging_freq=5\n",
      "[LightGBM] [Warning] min_sum_hessian_in_leaf is set=10.0, min_child_weight=0.001 will be ignored. Current value: min_sum_hessian_in_leaf=10.0\n",
      "[LightGBM] [Warning] num_threads is set=8, n_jobs=-1 will be ignored. Current value: num_threads=8\n",
      "[LightGBM] [Warning] min_data_in_leaf is set=80, min_child_samples=20 will be ignored. Current value: min_data_in_leaf=80\n",
      "[LightGBM] [Warning] feature_fraction is set=0.045, colsample_bytree=1.0 will be ignored. Current value: feature_fraction=0.045\n",
      "[LightGBM] [Warning] bagging_fraction is set=0.331, subsample=1.0 will be ignored. Current value: bagging_fraction=0.331\n",
      "[LightGBM] [Info] Number of positive: 16078, number of negative: 100000\n",
      "[LightGBM] [Warning] Auto-choosing col-wise multi-threading, the overhead of testing was 0.228880 seconds.\n",
      "You can set `force_col_wise=true` to remove the overhead.\n",
      "[LightGBM] [Info] Total Bins 157144\n",
      "[LightGBM] [Info] Number of data points in the train set: 116078, number of used features: 800\n"
     ]
    },
    {
     "name": "stderr",
     "output_type": "stream",
     "text": [
      "[Parallel(n_jobs=3)]: Using backend ThreadingBackend with 3 concurrent workers.\n",
      "[Parallel(n_jobs=3)]: Using backend ThreadingBackend with 3 concurrent workers.\n"
     ]
    },
    {
     "name": "stdout",
     "output_type": "stream",
     "text": [
      "[LightGBM] [Warning] boosting is set with boost=gbdt, boosting_type=gbdt will be ignored. Current value: boosting=gbdt\n",
      "[LightGBM] [Warning] bagging_freq is set=5, subsample_freq=0 will be ignored. Current value: bagging_freq=5\n",
      "[LightGBM] [Warning] min_sum_hessian_in_leaf is set=10.0, min_child_weight=0.001 will be ignored. Current value: min_sum_hessian_in_leaf=10.0\n",
      "[LightGBM] [Warning] num_threads is set=8, n_jobs=-1 will be ignored. Current value: num_threads=8\n",
      "[LightGBM] [Warning] min_data_in_leaf is set=80, min_child_samples=20 will be ignored. Current value: min_data_in_leaf=80\n",
      "[LightGBM] [Warning] feature_fraction is set=0.045, colsample_bytree=1.0 will be ignored. Current value: feature_fraction=0.045\n",
      "[LightGBM] [Warning] bagging_fraction is set=0.331, subsample=1.0 will be ignored. Current value: bagging_fraction=0.331\n",
      "[LightGBM] [Warning] boosting is set with boost=gbdt, boosting_type=gbdt will be ignored. Current value: boosting=gbdt\n",
      "[LightGBM] [Warning] bagging_freq is set=5, subsample_freq=0 will be ignored. Current value: bagging_freq=5\n",
      "[LightGBM] [Warning] min_sum_hessian_in_leaf is set=10.0, min_child_weight=0.001 will be ignored. Current value: min_sum_hessian_in_leaf=10.0\n",
      "[LightGBM] [Warning] num_threads is set=8, n_jobs=-1 will be ignored. Current value: num_threads=8\n",
      "[LightGBM] [Warning] min_data_in_leaf is set=80, min_child_samples=20 will be ignored. Current value: min_data_in_leaf=80\n",
      "[LightGBM] [Warning] feature_fraction is set=0.045, colsample_bytree=1.0 will be ignored. Current value: feature_fraction=0.045\n",
      "[LightGBM] [Warning] bagging_fraction is set=0.331, subsample=1.0 will be ignored. Current value: bagging_fraction=0.331\n",
      "[LightGBM] [Warning] boosting is set with boost=gbdt, boosting_type=gbdt will be ignored. Current value: boosting=gbdt\n",
      "[LightGBM] [Warning] bagging_freq is set=5, subsample_freq=0 will be ignored. Current value: bagging_freq=5\n",
      "[LightGBM] [Warning] min_sum_hessian_in_leaf is set=10.0, min_child_weight=0.001 will be ignored. Current value: min_sum_hessian_in_leaf=10.0\n",
      "[LightGBM] [Warning] num_threads is set=8, n_jobs=-1 will be ignored. Current value: num_threads=8\n",
      "[LightGBM] [Warning] min_data_in_leaf is set=80, min_child_samples=20 will be ignored. Current value: min_data_in_leaf=80\n",
      "[LightGBM] [Warning] feature_fraction is set=0.045, colsample_bytree=1.0 will be ignored. Current value: feature_fraction=0.045\n",
      "[LightGBM] [Warning] bagging_fraction is set=0.331, subsample=1.0 will be ignored. Current value: bagging_fraction=0.331\n",
      "[LightGBM] [Warning] boosting is set with boost=gbdt, boosting_type=gbdt will be ignored. Current value: boosting=gbdt\n",
      "[LightGBM] [Warning] bagging_freq is set=5, subsample_freq=0 will be ignored. Current value: bagging_freq=5\n",
      "[LightGBM] [Warning] min_sum_hessian_in_leaf is set=10.0, min_child_weight=0.001 will be ignored. Current value: min_sum_hessian_in_leaf=10.0\n",
      "[LightGBM] [Warning] num_threads is set=8, n_jobs=-1 will be ignored. Current value: num_threads=8\n",
      "[LightGBM] [Warning] min_data_in_leaf is set=80, min_child_samples=20 will be ignored. Current value: min_data_in_leaf=80\n",
      "[LightGBM] [Warning] feature_fraction is set=0.045, colsample_bytree=1.0 will be ignored. Current value: feature_fraction=0.045\n",
      "[LightGBM] [Warning] bagging_fraction is set=0.331, subsample=1.0 will be ignored. Current value: bagging_fraction=0.331\n",
      "[LightGBM] [Info] Number of positive: 12862, number of negative: 80000\n",
      "[LightGBM] [Warning] Auto-choosing col-wise multi-threading, the overhead of testing was 0.339283 seconds.\n",
      "You can set `force_col_wise=true` to remove the overhead.\n",
      "[LightGBM] [Info] Total Bins 157138\n",
      "[LightGBM] [Info] Number of data points in the train set: 92862, number of used features: 800\n",
      "[LightGBM] [Warning] boosting is set with boost=gbdt, boosting_type=gbdt will be ignored. Current value: boosting=gbdt\n",
      "[LightGBM] [Warning] bagging_freq is set=5, subsample_freq=0 will be ignored. Current value: bagging_freq=5\n",
      "[LightGBM] [Warning] min_sum_hessian_in_leaf is set=10.0, min_child_weight=0.001 will be ignored. Current value: min_sum_hessian_in_leaf=10.0\n",
      "[LightGBM] [Warning] num_threads is set=8, n_jobs=-1 will be ignored. Current value: num_threads=8\n",
      "[LightGBM] [Warning] min_data_in_leaf is set=80, min_child_samples=20 will be ignored. Current value: min_data_in_leaf=80\n",
      "[LightGBM] [Warning] feature_fraction is set=0.045, colsample_bytree=1.0 will be ignored. Current value: feature_fraction=0.045\n",
      "[LightGBM] [Warning] bagging_fraction is set=0.331, subsample=1.0 will be ignored. Current value: bagging_fraction=0.331\n",
      "[LightGBM] [Warning] boosting is set with boost=gbdt, boosting_type=gbdt will be ignored. Current value: boosting=gbdt\n",
      "[LightGBM] [Warning] bagging_freq is set=5, subsample_freq=0 will be ignored. Current value: bagging_freq=5\n",
      "[LightGBM] [Warning] min_sum_hessian_in_leaf is set=10.0, min_child_weight=0.001 will be ignored. Current value: min_sum_hessian_in_leaf=10.0\n",
      "[LightGBM] [Warning] num_threads is set=8, n_jobs=-1 will be ignored. Current value: num_threads=8\n",
      "[LightGBM] [Warning] min_data_in_leaf is set=80, min_child_samples=20 will be ignored. Current value: min_data_in_leaf=80\n",
      "[LightGBM] [Warning] feature_fraction is set=0.045, colsample_bytree=1.0 will be ignored. Current value: feature_fraction=0.045\n",
      "[LightGBM] [Warning] bagging_fraction is set=0.331, subsample=1.0 will be ignored. Current value: bagging_fraction=0.331\n",
      "[LightGBM] [Info] Number of positive: 12862, number of negative: 80000\n",
      "[LightGBM] [Info] Number of positive: 12862, number of negative: 80000\n",
      "[LightGBM] [Warning] Auto-choosing col-wise multi-threading, the overhead of testing was 0.788855 seconds.\n",
      "You can set `force_col_wise=true` to remove the overhead.\n",
      "[LightGBM] [Warning] Auto-choosing col-wise multi-threading, the overhead of testing was 0.795057 seconds.\n",
      "You can set `force_col_wise=true` to remove the overhead.\n",
      "[LightGBM] [Info] Total Bins 157136\n",
      "[LightGBM] [Info] Total Bins 157136\n",
      "[LightGBM] [Info] Number of data points in the train set: 92862, number of used features: 800\n",
      "[LightGBM] [Info] Number of data points in the train set: 92862, number of used features: 800\n",
      "[LightGBM] [Warning] boosting is set with boost=gbdt, boosting_type=gbdt will be ignored. Current value: boosting=gbdt\n",
      "[LightGBM] [Warning] bagging_freq is set=5, subsample_freq=0 will be ignored. Current value: bagging_freq=5\n",
      "[LightGBM] [Warning] min_sum_hessian_in_leaf is set=10.0, min_child_weight=0.001 will be ignored. Current value: min_sum_hessian_in_leaf=10.0\n",
      "[LightGBM] [Warning] num_threads is set=8, n_jobs=-1 will be ignored. Current value: num_threads=8\n",
      "[LightGBM] [Warning] min_data_in_leaf is set=80, min_child_samples=20 will be ignored. Current value: min_data_in_leaf=80\n",
      "[LightGBM] [Warning] feature_fraction is set=0.045, colsample_bytree=1.0 will be ignored. Current value: feature_fraction=0.045\n",
      "[LightGBM] [Warning] bagging_fraction is set=0.331, subsample=1.0 will be ignored. Current value: bagging_fraction=0.331\n",
      "[LightGBM] [Warning] boosting is set with boost=gbdt, boosting_type=gbdt will be ignored. Current value: boosting=gbdt\n",
      "[LightGBM] [Warning] bagging_freq is set=5, subsample_freq=0 will be ignored. Current value: bagging_freq=5\n",
      "[LightGBM] [Warning] min_sum_hessian_in_leaf is set=10.0, min_child_weight=0.001 will be ignored. Current value: min_sum_hessian_in_leaf=10.0\n",
      "[LightGBM] [Warning] num_threads is set=8, n_jobs=-1 will be ignored. Current value: num_threads=8\n",
      "[LightGBM] [Warning] min_data_in_leaf is set=80, min_child_samples=20 will be ignored. Current value: min_data_in_leaf=80\n",
      "[LightGBM] [Warning] feature_fraction is set=0.045, colsample_bytree=1.0 will be ignored. Current value: feature_fraction=0.045\n",
      "[LightGBM] [Warning] bagging_fraction is set=0.331, subsample=1.0 will be ignored. Current value: bagging_fraction=0.331\n",
      "[LightGBM] [Info] Number of positive: 12863, number of negative: 80000\n",
      "[LightGBM] [Warning] boosting is set with boost=gbdt, boosting_type=gbdt will be ignored. Current value: boosting=gbdt\n",
      "[LightGBM] [Warning] bagging_freq is set=5, subsample_freq=0 will be ignored. Current value: bagging_freq=5\n",
      "[LightGBM] [Warning] min_sum_hessian_in_leaf is set=10.0, min_child_weight=0.001 will be ignored. Current value: min_sum_hessian_in_leaf=10.0\n",
      "[LightGBM] [Warning] num_threads is set=8, n_jobs=-1 will be ignored. Current value: num_threads=8\n",
      "[LightGBM] [Warning] min_data_in_leaf is set=80, min_child_samples=20 will be ignored. Current value: min_data_in_leaf=80\n",
      "[LightGBM] [Warning] feature_fraction is set=0.045, colsample_bytree=1.0 will be ignored. Current value: feature_fraction=0.045\n",
      "[LightGBM] [Warning] bagging_fraction is set=0.331, subsample=1.0 will be ignored. Current value: bagging_fraction=0.331\n"
     ]
    },
    {
     "name": "stdout",
     "output_type": "stream",
     "text": [
      "[LightGBM] [Warning] Auto-choosing col-wise multi-threading, the overhead of testing was 0.382613 seconds.\n",
      "You can set `force_col_wise=true` to remove the overhead.\n",
      "[LightGBM] [Info] Total Bins 157136\n",
      "[LightGBM] [Info] Number of data points in the train set: 92863, number of used features: 800\n",
      "[LightGBM] [Warning] boosting is set with boost=gbdt, boosting_type=gbdt will be ignored. Current value: boosting=gbdt\n",
      "[LightGBM] [Warning] bagging_freq is set=5, subsample_freq=0 will be ignored. Current value: bagging_freq=5\n",
      "[LightGBM] [Warning] min_sum_hessian_in_leaf is set=10.0, min_child_weight=0.001 will be ignored. Current value: min_sum_hessian_in_leaf=10.0\n",
      "[LightGBM] [Warning] num_threads is set=8, n_jobs=-1 will be ignored. Current value: num_threads=8\n",
      "[LightGBM] [Warning] min_data_in_leaf is set=80, min_child_samples=20 will be ignored. Current value: min_data_in_leaf=80\n",
      "[LightGBM] [Warning] feature_fraction is set=0.045, colsample_bytree=1.0 will be ignored. Current value: feature_fraction=0.045\n",
      "[LightGBM] [Warning] bagging_fraction is set=0.331, subsample=1.0 will be ignored. Current value: bagging_fraction=0.331\n",
      "[LightGBM] [Info] Number of positive: 12863, number of negative: 80000\n",
      "[LightGBM] [Warning] Auto-choosing col-wise multi-threading, the overhead of testing was 0.256348 seconds.\n",
      "You can set `force_col_wise=true` to remove the overhead.\n",
      "[LightGBM] [Info] Total Bins 157138\n",
      "[LightGBM] [Info] Number of data points in the train set: 92863, number of used features: 800\n"
     ]
    },
    {
     "name": "stderr",
     "output_type": "stream",
     "text": [
      "[Parallel(n_jobs=3)]: Done   5 out of   5 | elapsed:  1.9min finished\n",
      "[Parallel(n_jobs=3)]: Done   5 out of   5 | elapsed: 53.8min finished\n",
      "[Parallel(n_jobs=1)]: Using backend SequentialBackend with 1 concurrent workers.\n",
      "[Parallel(n_jobs=1)]: Done 100 out of 100 | elapsed:  3.2min finished\n",
      "[Parallel(n_jobs=1)]: Using backend SequentialBackend with 1 concurrent workers.\n",
      "[Parallel(n_jobs=1)]: Done 100 out of 100 | elapsed:    1.3s finished\n"
     ]
    },
    {
     "name": "stdout",
     "output_type": "stream",
     "text": [
      "Training AuC: \n",
      " 0.9426075569875428\n"
     ]
    },
    {
     "name": "stderr",
     "output_type": "stream",
     "text": [
      "[Parallel(n_jobs=1)]: Using backend SequentialBackend with 1 concurrent workers.\n"
     ]
    },
    {
     "name": "stdout",
     "output_type": "stream",
     "text": [
      "Validation AuC: \n",
      " 0.87305\n"
     ]
    },
    {
     "name": "stderr",
     "output_type": "stream",
     "text": [
      "[Parallel(n_jobs=1)]: Done 100 out of 100 | elapsed:    0.5s finished\n"
     ]
    }
   ],
   "source": [
    "model2 = get_stacked_model()\n",
    "model2.fit(X_train, y_train)\n",
    "print('Training AuC: \\n', \n",
    "      model2.score(X_train, y_train))\n",
    "print('Validation AuC: \\n', \n",
    "      model2.score(X_val, y_val))"
   ]
  },
  {
   "cell_type": "code",
   "execution_count": 43,
   "metadata": {},
   "outputs": [],
   "source": [
    "pkl.dump(model, open(folder + \"charan/lgbm_xgb_rf_stack_20220420.pkl.dat\", \"wb\"))"
   ]
  },
  {
   "cell_type": "code",
   "execution_count": null,
   "metadata": {},
   "outputs": [],
   "source": [
    "def kaggle_submission(model, X_test_all):\n",
    "    y_pred = model.predict_proba(X_test_all)\n",
    "    kaggle = pd.DataFrame({\n",
    "        'ID_code': X_test_all.index.map(lambda x: 'test_{}'.format(x)),\n",
    "        'target': y_pred[:,1]})\n",
    "    kaggle = kaggle.set_index('ID_code')\n",
    "    return kaggle"
   ]
  },
  {
   "cell_type": "markdown",
   "metadata": {
    "id": "0bzZhbYTva3w"
   },
   "source": [
    "##### Scoring"
   ]
  },
  {
   "cell_type": "code",
   "execution_count": 12,
   "metadata": {
    "id": "rJhVMDUGd3rc",
    "outputId": "a9847e90-1574-4ae7-88d0-60ba41ebe7b8"
   },
   "outputs": [],
   "source": [
    "y_pred = model.predict_proba(X_test_all)[:,1]"
   ]
  },
  {
   "cell_type": "code",
   "execution_count": 45,
   "metadata": {
    "id": "swqLlZNmeCvk"
   },
   "outputs": [],
   "source": [
    "kaggle = pd.DataFrame({\n",
    "    'ID_code': X_test_all.index.map(lambda x: 'test_{}'.format(x)),\n",
    "    'target': y_pred[:,1]\n",
    "})\n",
    "kaggle = kaggle.set_index('ID_code')"
   ]
  },
  {
   "cell_type": "code",
   "execution_count": 48,
   "metadata": {
    "id": "QbsNShx_ekYC"
   },
   "outputs": [],
   "source": [
    "kaggle.to_csv(folder + 'charan/kaggle9.csv')"
   ]
  },
  {
   "cell_type": "markdown",
   "metadata": {},
   "source": [
    "##### Viz"
   ]
  },
  {
   "cell_type": "code",
   "execution_count": 22,
   "metadata": {},
   "outputs": [],
   "source": [
    "# inputs model, X_val and y_val to plot confusion matrix\n",
    "def show_confusion_matrix(model, X_val, y_val):\n",
    "    print('Confusion Matrix')\n",
    "    plot_confusion_matrix(model, X_val, y_val)\n",
    "    plt.show()\n",
    "    y_pred = model.predict(X_val)\n",
    "    print(classification_report(y_val, y_pred))\n",
    "\n",
    "    print('Accuracy of the model: ',  accuracy_score(y_val, y_pred))\n",
    "    print('Recall of the model: ',    recall_score(y_val, y_pred))\n",
    "    print('Precision of the model: ', precision_score(y_val, y_pred))\n",
    "    print('F Measure of the model: ', f1_score(y_val, y_pred))"
   ]
  },
  {
   "cell_type": "code",
   "execution_count": 23,
   "metadata": {},
   "outputs": [],
   "source": [
    "# inputs model, X_val and y_val to plot RoC curve\n",
    "def plot_roc(model, X_val, y_val):\n",
    "    # calculate the fpr and tpr for \n",
    "    # all thresholds of the classification\n",
    "    preds = model.predict_proba(X_val)[:,1]\n",
    "    fpr, tpr, threshold = metrics.roc_curve(y_val, preds)\n",
    "    roc_auc = metrics.auc(fpr, tpr)\n",
    "\n",
    "    # Plot\n",
    "    plt.title('Receiver Operating Characteristic - Stacked Ensemble Model')\n",
    "    plt.plot(fpr, tpr, 'b', label = 'AUC = %0.2f' % roc_auc)\n",
    "    plt.legend(loc = 'lower right')\n",
    "    plt.plot([0, 1], [0, 1],'r--')\n",
    "    plt.xlim([-0.1, 1.1])\n",
    "    plt.ylim([0, 1.1])\n",
    "    plt.ylabel('True Positive Rate')\n",
    "    plt.xlabel('False Positive Rate')\n",
    "    plt.show()"
   ]
  },
  {
   "cell_type": "code",
   "execution_count": 24,
   "metadata": {},
   "outputs": [
    {
     "name": "stdout",
     "output_type": "stream",
     "text": [
      "Confusion Matrix\n"
     ]
    },
    {
     "data": {
      "image/png": "[encoded data removed]",
      "text/plain": [
       "<Figure size 432x288 with 2 Axes>"
      ]
     },
     "metadata": {
      "needs_background": "light"
     },
     "output_type": "display_data"
    },
    {
     "name": "stdout",
     "output_type": "stream",
     "text": [
      "              precision    recall  f1-score   support\n",
      "\n",
      "         0.0       0.97      0.79      0.87     35980\n",
      "         1.0       0.31      0.81      0.44      4020\n",
      "\n",
      "    accuracy                           0.80     40000\n",
      "   macro avg       0.64      0.80      0.66     40000\n",
      "weighted avg       0.91      0.80      0.83     40000\n",
      "\n",
      "Accuracy of the model:  0.7959\n",
      "Recall of the model:  0.8114427860696517\n",
      "Precision of the model:  0.30577427821522307\n",
      "F Measure of the model:  0.44417211328976025\n"
     ]
    }
   ],
   "source": [
    "show_confusion_matrix(model, X_val, y_val)"
   ]
  },
  {
   "cell_type": "code",
   "execution_count": 25,
   "metadata": {},
   "outputs": [
    {
     "data": {
      "image/png": "[encoded data removed]",
      "text/plain": [
       "<Figure size 432x288 with 1 Axes>"
      ]
     },
     "metadata": {
      "needs_background": "light"
     },
     "output_type": "display_data"
    }
   ],
   "source": [
    "plot_roc(model, X_val, y_val)"
   ]
  },
  {
   "cell_type": "code",
   "execution_count": null,
   "metadata": {},
   "outputs": [],
   "source": []
  }
 ],
 "metadata": {
  "accelerator": "GPU",
  "colab": {
   "collapsed_sections": [],
   "name": "stacking-sourabh.ipynb",
   "provenance": []
  },
  "kernelspec": {
   "display_name": "Python 3 (ipykernel)",
   "language": "python",
   "name": "python3"
  },
  "language_info": {
   "codemirror_mode": {
    "name": "ipython",
    "version": 3
   },
   "file_extension": ".py",
   "mimetype": "text/x-python",
   "name": "python",
   "nbconvert_exporter": "python",
   "pygments_lexer": "ipython3",
   "version": "3.9.10"
  }
 },
 "nbformat": 4,
 "nbformat_minor": 1
}
