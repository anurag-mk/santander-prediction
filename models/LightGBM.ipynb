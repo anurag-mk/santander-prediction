{
 "cells": [
  {
   "cell_type": "markdown",
   "metadata": {
    "id": "FMSjGosA99Rv"
   },
   "source": [
    "### Imports"
   ]
  },
  {
   "cell_type": "code",
   "execution_count": null,
   "metadata": {
    "id": "1qL6p2UF99Rv"
   },
   "outputs": [],
   "source": [
    "import pandas as pd\n",
    "import numpy as np\n",
    "import skopt\n",
    "import seaborn as sns\n",
    "from sklearn.ensemble import RandomForestClassifier\n",
    "from sklearn.feature_selection import SelectFromModel\n",
    "from sklearn.preprocessing import StandardScaler\n",
    "from imblearn.pipeline import Pipeline\n",
    "from lightgbm import LGBMClassifier\n",
    "import matplotlib.pyplot as plt\n",
    "from sklearn.metrics import accuracy_score, confusion_matrix, precision_score, recall_score, f1_score\n",
    "from sklearn.metrics import classification_report\n",
    "from imblearn.pipeline import Pipeline\n",
    "import lightgbm as lightgbmclassifier\n",
    "from sklearn.metrics import plot_confusion_matrix\n",
    "from sklearn.tree import DecisionTreeClassifier\n",
    "from sklearn.model_selection import train_test_split\n",
    "from sklearn.model_selection import GridSearchCV, cross_val_score, KFold\n",
    "from sklearn.model_selection import train_test_split, GridSearchCV, cross_val_score, KFold\n",
    "from tqdm import tqdm_notebook as tqdm\n",
    "import scipy.ndimage\n",
    "import tensorflow as tf\n",
    "from sklearn import linear_model\n",
    "from tensorflow.keras.optimizers import Adam\n",
    "from keras.models import Sequential\n",
    "from keras.layers import Input, Dropout, Flatten, Convolution2D, MaxPooling2D, Dense, Activation, Conv1D, BatchNormalization, AveragePooling1D, Reshape\n",
    "from keras.callbacks import ModelCheckpoint, Callback, EarlyStopping\n",
    "from keras.utils import np_utils\n",
    "\n",
    "\n",
    "import warnings\n",
    "warnings.filterwarnings('ignore')"
   ]
  },
  {
   "cell_type": "code",
   "execution_count": null,
   "metadata": {
    "colab": {
     "base_uri": "https://localhost:8080/"
    },
    "executionInfo": {
     "elapsed": 10706,
     "status": "ok",
     "timestamp": 1650304228821,
     "user": {
      "displayName": "Sourabh Koul",
      "userId": "09479624698465651197"
     },
     "user_tz": 300
    },
    "id": "eQzb670lFD80",
    "outputId": "69d27720-d2e7-4dbe-9a73-75576dcf1915"
   },
   "outputs": [
    {
     "name": "stdout",
     "output_type": "stream",
     "text": [
      "Collecting scikit-optimize\n",
      "  Downloading scikit_optimize-0.9.0-py2.py3-none-any.whl (100 kB)\n",
      "\u001b[K     |████████████████████████████████| 100 kB 2.4 MB/s \n",
      "\u001b[?25hRequirement already satisfied: joblib>=0.11 in /usr/local/lib/python3.7/dist-packages (from scikit-optimize) (1.1.0)\n",
      "Requirement already satisfied: numpy>=1.13.3 in /usr/local/lib/python3.7/dist-packages (from scikit-optimize) (1.21.5)\n",
      "Requirement already satisfied: scikit-learn>=0.20.0 in /usr/local/lib/python3.7/dist-packages (from scikit-optimize) (1.0.2)\n",
      "Requirement already satisfied: scipy>=0.19.1 in /usr/local/lib/python3.7/dist-packages (from scikit-optimize) (1.4.1)\n",
      "Collecting pyaml>=16.9\n",
      "  Downloading pyaml-21.10.1-py2.py3-none-any.whl (24 kB)\n",
      "Requirement already satisfied: PyYAML in /usr/local/lib/python3.7/dist-packages (from pyaml>=16.9->scikit-optimize) (3.13)\n",
      "Requirement already satisfied: threadpoolctl>=2.0.0 in /usr/local/lib/python3.7/dist-packages (from scikit-learn>=0.20.0->scikit-optimize) (3.1.0)\n",
      "Installing collected packages: pyaml, scikit-optimize\n",
      "Successfully installed pyaml-21.10.1 scikit-optimize-0.9.0\n"
     ]
    }
   ],
   "source": [
    "import sys\n",
    "!{sys.executable} -m pip install scikit-optimize"
   ]
  },
  {
   "cell_type": "code",
   "execution_count": null,
   "metadata": {
    "id": "NRw8IILqFMff"
   },
   "outputs": [],
   "source": [
    "from skopt import BayesSearchCV"
   ]
  },
  {
   "cell_type": "code",
   "execution_count": null,
   "metadata": {
    "id": "WPcd_O_1X-DX"
   },
   "outputs": [],
   "source": [
    "RAND_STATE = 47\n",
    "np.random.seed(RAND_STATE) #random_state"
   ]
  },
  {
   "cell_type": "code",
   "execution_count": null,
   "metadata": {
    "colab": {
     "base_uri": "https://localhost:8080/"
    },
    "executionInfo": {
     "elapsed": 21506,
     "status": "ok",
     "timestamp": 1650601757468,
     "user": {
      "displayName": "Sourabh Koul",
      "userId": "09479624698465651197"
     },
     "user_tz": 300
    },
    "id": "QFmi0XJbxtOj",
    "outputId": "99dd3938-4c56-4ba7-dba2-0b85b9cdf6c7"
   },
   "outputs": [
    {
     "name": "stdout",
     "output_type": "stream",
     "text": [
      "Mounted at /content/drive\n"
     ]
    }
   ],
   "source": [
    "from google.colab import drive\n",
    "drive.mount('/content/drive')"
   ]
  },
  {
   "cell_type": "markdown",
   "metadata": {
    "id": "p70RGcubYzWB"
   },
   "source": [
    "### Get Updated clean and split files"
   ]
  },
  {
   "cell_type": "code",
   "execution_count": null,
   "metadata": {
    "id": "_Z6V7pKh-2gh"
   },
   "outputs": [],
   "source": [
    "def get_train_test(tr = 'X_train.csv', te = 'X_test_all.csv'):\n",
    "    # Returns a sample of original dataset\n",
    "    # of 100k records of class 0 and all records of class 1\n",
    "    # along with val and test datasets\n",
    "    df = pd.read_csv(folder + tr)\n",
    "    # test_df = pd.read_csv(folder + 'X_test.csv')\n",
    "    test_all_df = pd.read_csv(folder + te)\n",
    "    # Splitting for train and val\n",
    "    X_train, X_val, y_train, y_val = train_test_split(df.iloc[:, 3:],\n",
    "                                                    df.target,\n",
    "                                                    test_size=0.2, \n",
    "                                                    random_state=RAND_STATE,\n",
    "                                                    stratify = df['target'])\n",
    "    X_test_all = test_all_df.iloc[:, 3:]\n",
    "    \n",
    "    class_dict = {0 : 100000,\n",
    "                  1 :  y_train.value_counts()[1]}\n",
    "    \n",
    "    rus = RandomUnderSampler(sampling_strategy = class_dict,\n",
    "                             random_state = RAND_STATE) \n",
    "    X_res, y_res = rus.fit_resample(X_train, y_train)\n",
    "    X_res.to_csv(folder+'charan/X_res.csv')\n",
    "    y_res.to_csv(folder+'charan/y_res.csv')\n",
    "    \n",
    "    del df, test_all_df\n",
    "#   return X_train, X_val, y_train, y_val, X_test_all\n",
    "    return X_res, X_val, y_res, y_val, X_test_all"
   ]
  },
  {
   "cell_type": "markdown",
   "metadata": {
    "id": "zHQSBZbNR5vh"
   },
   "source": [
    "### Running Light GBM to find best hyperparameters"
   ]
  },
  {
   "cell_type": "code",
   "execution_count": null,
   "metadata": {
    "id": "dUXxQARnvKVz"
   },
   "outputs": [],
   "source": [
    "X_train, X_val, y_train, y_val, _ = get_train_test(tr = 'X_train.csv')"
   ]
  },
  {
   "cell_type": "code",
   "execution_count": null,
   "metadata": {
    "id": "BSFIVwhA9Kyz"
   },
   "outputs": [],
   "source": [
    "# ### Hyperparameter grid!\n",
    "lgb_grid = {\n",
    "    'model__bagging_freq': [3,4,5],\n",
    "    'model__bagging_fraction': [0.3,0.331],0.5,\n",
    "    'model__boost_from_average':['false'],\n",
    "    'model__boost': ['gbdt'],\n",
    "    'model__feature_fraction': [0.03, 0.04, 0.05],\n",
    "    'model__learning_rate': [0.008, 0.009],\n",
    "    'model__max_depth': [-1],  \n",
    "    'model__metric':['auc'],\n",
    "    'model__min_data_in_leaf': [80, 90],\n",
    "    'model__min_sum_hessian_in_leaf': [10.0, 11.0],\n",
    "    'model__num_leaves': [13,15],\n",
    "    'model__num_threads': [8, 10],\n",
    "    'model__tree_learner': ['serial'],\n",
    "    'model__objective': ['binary'], \n",
    "    'model__class_weight': ['balanced'], #Class weight is balanced!\n",
    "    'model__verbosity': [1]\n",
    "    #'model__device': ['gpu']\n",
    "}"
   ]
  },
  {
   "cell_type": "markdown",
   "metadata": {
    "id": "tF08hsXeQX0M"
   },
   "source": [
    "#### Used 'AUC Score' as scoring since the final model performance is tested on auc score on kaggle"
   ]
  },
  {
   "cell_type": "code",
   "execution_count": null,
   "metadata": {
    "colab": {
     "base_uri": "https://localhost:8080/"
    },
    "executionInfo": {
     "elapsed": 199040,
     "status": "ok",
     "timestamp": 1650333755655,
     "user": {
      "displayName": "Sourabh Koul",
      "userId": "09479624698465651197"
     },
     "user_tz": 300
    },
    "id": "sc_hnGL8SWTq",
    "outputId": "29e6de91-e232-4415-a075-76d7ef2d9545"
   },
   "outputs": [
    {
     "name": "stdout",
     "output_type": "stream",
     "text": [
      "0.8381579888735382\n",
      "{'model__bagging_fraction': 0.331, 'model__bagging_freq': 4, 'model__boost': 'gbdt', 'model__boost_from_average': 'false', 'model__class_weight': 'balanced', 'model__feature_fraction': 0.045, 'model__learning_rate': 0.008, 'model__max_depth': -1, 'model__metric': 'auc', 'model__min_data_in_leaf': 80, 'model__min_sum_hessian_in_leaf': 10.0, 'model__num_leaves': 15, 'model__num_threads': 8, 'model__objective': 'binary', 'model__tree_learner': 'serial', 'model__verbosity': 1}\n",
      "Pipeline(steps=[('model',\n",
      "                 LGBMClassifier(bagging_fraction=0.331, bagging_freq=4,\n",
      "                                boost='gbdt', boost_from_average='false',\n",
      "                                class_weight='balanced', feature_fraction=0.045,\n",
      "                                learning_rate=0.008, metric='auc',\n",
      "                                min_data_in_leaf=80,\n",
      "                                min_sum_hessian_in_leaf=10.0, num_leaves=15,\n",
      "                                num_threads=8, objective='binary',\n",
      "                                tree_learner='serial', verbosity=1))])\n"
     ]
    }
   ],
   "source": [
    "###Training the model!\n",
    "new_model = Pipeline([('model', LGBMClassifier())])\n",
    "clf_lgb = GridSearchCV(estimator=new_model, param_grid=lgb_grid, scoring = 'roc_auc')\n",
    "clf_lgb.fit(X_train, y_train)\n",
    "print(clf_lgb.best_score_)\n",
    "print(clf_lgb.best_params_)\n",
    "print(clf_lgb.best_estimator_)"
   ]
  },
  {
   "cell_type": "code",
   "execution_count": null,
   "metadata": {
    "id": "-OSCwKmqzZ05"
   },
   "outputs": [],
   "source": [
    "# inputs model, X_val and y_val to plot confusion matrix\n",
    "def show_confusion_matrix(model, X_val, y_val):\n",
    "    print('Confusion Matrix')\n",
    "    plot_confusion_matrix(model, X_val, y_val)\n",
    "    plt.show()\n",
    "    y_pred = model.predict(X_val)\n",
    "    print(classification_report(y_val, y_pred))\n",
    "\n",
    "    print('Accuracy of the model: ',  accuracy_score(y_val, y_pred))\n",
    "    print('Recall of the model: ',    recall_score(y_val, y_pred))\n",
    "    print('Precision of the model: ', precision_score(y_val, y_pred))\n",
    "    print('F Measure of the model: ', f1_score(y_val, y_pred))"
   ]
  },
  {
   "cell_type": "code",
   "execution_count": null,
   "metadata": {
    "colab": {
     "base_uri": "https://localhost:8080/",
     "height": 522
    },
    "executionInfo": {
     "elapsed": 2152,
     "status": "ok",
     "timestamp": 1650333766172,
     "user": {
      "displayName": "Sourabh Koul",
      "userId": "09479624698465651197"
     },
     "user_tz": 300
    },
    "id": "n6aMjVwLTKGj",
    "outputId": "417b5df3-d6c8-415d-fb40-c2e94ac7abb2"
   },
   "outputs": [
    {
     "name": "stdout",
     "output_type": "stream",
     "text": [
      "Light GBM Classifier - Confusion Matrix\n"
     ]
    },
    {
     "data": {
      "image/png": "[encoded data removed]",
      "text/plain": [
       "<Figure size 432x288 with 2 Axes>"
      ]
     },
     "metadata": {
      "needs_background": "light"
     },
     "output_type": "display_data"
    },
    {
     "name": "stdout",
     "output_type": "stream",
     "text": [
      "              precision    recall  f1-score   support\n",
      "\n",
      "         0.0       0.96      0.79      0.87     35980\n",
      "         1.0       0.28      0.70      0.40      4020\n",
      "\n",
      "    accuracy                           0.78     40000\n",
      "   macro avg       0.62      0.75      0.63     40000\n",
      "weighted avg       0.89      0.78      0.82     40000\n",
      "\n",
      "Accuracy of the model:  0.784475\n",
      "Recall of the model:  0.7024875621890547\n",
      "Precision of the model:  0.2755390769831203\n",
      "F Measure of the model:  0.3958231130422594\n"
     ]
    }
   ],
   "source": [
    "show_confusion_matrix(model, X_val, y_val)"
   ]
  },
  {
   "cell_type": "markdown",
   "metadata": {
    "id": "YNsoU2qMSAjM"
   },
   "source": [
    "#### ROC AUC Curve!"
   ]
  },
  {
   "cell_type": "code",
   "execution_count": null,
   "metadata": {
    "id": "FuKtrJLAvrSZ"
   },
   "outputs": [],
   "source": [
    "# inputs model, X_val and y_val to plot RoC curve\n",
    "def plot_roc(model, X_val, y_val):\n",
    "    # calculate the fpr and tpr for \n",
    "    # all thresholds of the classification\n",
    "    preds = model.predict_proba(X_val)[:,1]\n",
    "    fpr, tpr, threshold = metrics.roc_curve(y_val, preds)\n",
    "    roc_auc = metrics.auc(fpr, tpr)\n",
    "\n",
    "    # Plot\n",
    "    plt.title('Receiver Operating Characteristic - Stacked Ensemble Model')\n",
    "    plt.plot(fpr, tpr, 'b', label = 'AUC = %0.2f' % roc_auc)\n",
    "    plt.legend(loc = 'lower right')\n",
    "    plt.plot([0, 1], [0, 1],'r--')\n",
    "    plt.xlim([-0.1, 1.1])\n",
    "    plt.ylim([0, 1.1])\n",
    "    plt.ylabel('True Positive Rate')\n",
    "    plt.xlabel('False Positive Rate')\n",
    "    plt.show()"
   ]
  },
  {
   "cell_type": "code",
   "execution_count": null,
   "metadata": {
    "colab": {
     "base_uri": "https://localhost:8080/",
     "height": 295
    },
    "executionInfo": {
     "elapsed": 1068,
     "status": "ok",
     "timestamp": 1650333775722,
     "user": {
      "displayName": "Sourabh Koul",
      "userId": "09479624698465651197"
     },
     "user_tz": 300
    },
    "id": "0tfevlF3ReZB",
    "outputId": "8540ebd2-7df1-4f36-f7d0-04252716b0c3"
   },
   "outputs": [
    {
     "data": {
      "image/png": "[encoded data removed]",
      "text/plain": [
       "<Figure size 432x288 with 1 Axes>"
      ]
     },
     "metadata": {
      "needs_background": "light"
     },
     "output_type": "display_data"
    }
   ],
   "source": [
    "plot_roc(clf_lgb, X_val, y_val)"
   ]
  },
  {
   "cell_type": "markdown",
   "metadata": {
    "id": "jTvwrjUBv46l"
   },
   "source": [
    "### Creating Final Model"
   ]
  },
  {
   "cell_type": "code",
   "execution_count": null,
   "metadata": {
    "colab": {
     "base_uri": "https://localhost:8080/"
    },
    "executionInfo": {
     "elapsed": 40351,
     "status": "ok",
     "timestamp": 1650442851515,
     "user": {
      "displayName": "Sourabh Koul",
      "userId": "09479624698465651197"
     },
     "user_tz": 300
    },
    "id": "e_as3IishXEw",
    "outputId": "ddb543f1-9186-4e71-fe5c-df5f9fd17e7b"
   },
   "outputs": [
    {
     "data": {
      "text/plain": [
       "LGBMClassifier(bagging_fraction=0.331, bagging_freq=5, boost='gbdt',\n",
       "               boost_from_average='false', class_weight='balanced',\n",
       "               feature_fraction=0.0405, learning_rate=0.0083, metric='auc',\n",
       "               min_data_in_leaf=80, min_sum_hessian_in_leaf=10.0, num_leaves=13,\n",
       "               num_threads=8, objective='binary', tree_learner='serial',\n",
       "               verbosity=1)"
      ]
     },
     "execution_count": 14,
     "metadata": {},
     "output_type": "execute_result"
    }
   ],
   "source": [
    "import lightgbm as lgb\n",
    "model_lg = lgb.LGBMClassifier(bagging_fraction=0.331, bagging_freq=5,\n",
    "                                boost='gbdt', boost_from_average='false',\n",
    "                                class_weight='balanced',\n",
    "                                feature_fraction=0.0405, learning_rate=0.0083,\n",
    "                                metric='auc', min_data_in_leaf=80,\n",
    "                                min_sum_hessian_in_leaf=10.0, num_leaves=13,\n",
    "                                num_threads=8, objective='binary',\n",
    "                                tree_learner='serial', verbosity=1)\n",
    "model_lg.fit(X_train,y_train)"
   ]
  },
  {
   "cell_type": "markdown",
   "metadata": {
    "id": "NuLIiO8iwCz6"
   },
   "source": [
    "### Plotting Feature Importance"
   ]
  },
  {
   "cell_type": "code",
   "execution_count": null,
   "metadata": {
    "colab": {
     "base_uri": "https://localhost:8080/"
    },
    "executionInfo": {
     "elapsed": 130,
     "status": "ok",
     "timestamp": 1650443415485,
     "user": {
      "displayName": "Sourabh Koul",
      "userId": "09479624698465651197"
     },
     "user_tz": 300
    },
    "id": "uUuIfAI1FTuq",
    "outputId": "29e3ab31-9e5f-4cf3-9100-12314a18e756"
   },
   "outputs": [
    {
     "data": {
      "text/plain": [
       "[17, 16, 14, 14, 14]"
      ]
     },
     "execution_count": 20,
     "metadata": {},
     "output_type": "execute_result"
    }
   ],
   "source": [
    "y = model_lg.feature_importances_\n",
    "x = sorted(y, reverse = True)\n",
    "x[:5]"
   ]
  },
  {
   "cell_type": "code",
   "execution_count": null,
   "metadata": {
    "id": "81mgDT9uFgNz"
   },
   "outputs": [],
   "source": [
    "sns.barplot(x=x[:11], y=)"
   ]
  },
  {
   "cell_type": "code",
   "execution_count": null,
   "metadata": {
    "colab": {
     "base_uri": "https://localhost:8080/",
     "height": 312
    },
    "executionInfo": {
     "elapsed": 301,
     "status": "ok",
     "timestamp": 1650443638512,
     "user": {
      "displayName": "Sourabh Koul",
      "userId": "09479624698465651197"
     },
     "user_tz": 300
    },
    "id": "QquqZ-6_uoIp",
    "outputId": "3e04ec19-eb56-48bf-afca-b8dbb48864b2"
   },
   "outputs": [
    {
     "data": {
      "text/plain": [
       "<matplotlib.axes._subplots.AxesSubplot at 0x7fbef103f410>"
      ]
     },
     "execution_count": 21,
     "metadata": {},
     "output_type": "execute_result"
    },
    {
     "data": {
      "image/png": "[encoded data removed]",
      "text/plain": [
       "<Figure size 432x288 with 1 Axes>"
      ]
     },
     "metadata": {
      "needs_background": "light"
     },
     "output_type": "display_data"
    }
   ],
   "source": [
    "lgb.plot_importance(model_lg,grid=False, max_num_features=10, title = 'Top 10 Feature Importance')"
   ]
  },
  {
   "cell_type": "code",
   "execution_count": null,
   "metadata": {
    "id": "Dc2t3l21kuZC"
   },
   "outputs": [],
   "source": [
    "final_pred = clf_lgb.predict_proba(X_test)"
   ]
  },
  {
   "cell_type": "code",
   "execution_count": null,
   "metadata": {
    "id": "2Rf7sfjgkF3i"
   },
   "outputs": [],
   "source": [
    "final_pred = final_pred[:,1]"
   ]
  },
  {
   "cell_type": "markdown",
   "metadata": {
    "id": "Mz8rEy4PwIVi"
   },
   "source": [
    "### Saving Final Model"
   ]
  },
  {
   "cell_type": "code",
   "execution_count": null,
   "metadata": {
    "id": "CYVUYU7WlFwo"
   },
   "outputs": [],
   "source": [
    "sub_df = pd.DataFrame({\"ID_code\":test_df[\"ID_code\"].values})\n",
    "sub_df[\"target\"] = final_pred\n",
    "sub_df.to_csv(\"MSBA6420.Session002.submissionV12.csv\", index=False)"
   ]
  }
 ],
 "metadata": {
  "colab": {
   "authorship_tag": "ABX9TyPB8X9sqplmcxGW3ExcZepc",
   "name": "LightGBM.ipynb",
   "provenance": []
  },
  "kernelspec": {
   "display_name": "Python 3 (ipykernel)",
   "language": "python",
   "name": "python3"
  },
  "language_info": {
   "codemirror_mode": {
    "name": "ipython",
    "version": 3
   },
   "file_extension": ".py",
   "mimetype": "text/x-python",
   "name": "python",
   "nbconvert_exporter": "python",
   "pygments_lexer": "ipython3",
   "version": "3.9.7"
  }
 },
 "nbformat": 4,
 "nbformat_minor": 1
}
